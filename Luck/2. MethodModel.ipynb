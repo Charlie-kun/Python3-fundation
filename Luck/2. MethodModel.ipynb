{
 "cells": [
  {
   "cell_type": "markdown",
   "id": "7c9ae230",
   "metadata": {},
   "source": [
    "### 2. MethodModel"
   ]
  },
  {
   "cell_type": "markdown",
   "id": "7bd00fc0",
   "metadata": {},
   "source": [
    "#### 1. Data"
   ]
  },
  {
   "cell_type": "code",
   "execution_count": 1,
   "id": "91b39da4",
   "metadata": {},
   "outputs": [],
   "source": [
    "import numpy as np\n",
    "import pandas as pd\n",
    "\n",
    "import scipy\n",
    "from scipy import stats\n",
    "import matplotlib.pyplot as plt"
   ]
  },
  {
   "cell_type": "markdown",
   "id": "a315421c",
   "metadata": {},
   "source": [
    "#### 1. Read csv file"
   ]
  },
  {
   "cell_type": "code",
   "execution_count": 2,
   "id": "84fe79f1",
   "metadata": {},
   "outputs": [
    {
     "name": "stdout",
     "output_type": "stream",
     "text": [
      "     Num1  Num2  Num3  Num4  Num5  Num6\n",
      "0      10    23    29    33    37    40\n",
      "1       9    13    21    25    32    42\n",
      "2      11    16    19    21    27    31\n",
      "3      14    27    30    31    40    42\n",
      "4      16    24    29    40    41    42\n",
      "..    ...   ...   ...   ...   ...   ...\n",
      "956     4    15    24    35    36    40\n",
      "957     2     9    10    16    35    37\n",
      "958     1    14    15    24    40    41\n",
      "959     2    18    24    30    32    45\n",
      "960    11    20    29    31    33    42\n",
      "\n",
      "[961 rows x 6 columns]\n"
     ]
    }
   ],
   "source": [
    "lotto =pd.read_csv('./lotto1to961.csv')\n",
    "print(lotto)\n",
    "#y=np.array([11,20,29,31,33,42])\n",
    "y=np.array([[11,20,29,31,33,42],[2,18, 24,30,32,45],[1,14,15,24,40,41],[2,9,10,16,35,37],[4,15,24,35,36,40],[10,11,20,21,25,41]])"
   ]
  },
  {
   "cell_type": "markdown",
   "id": "70f197fd",
   "metadata": {},
   "source": [
    "#### 2. Change csv to array"
   ]
  },
  {
   "cell_type": "code",
   "execution_count": 3,
   "id": "05a0fd81",
   "metadata": {},
   "outputs": [
    {
     "name": "stdout",
     "output_type": "stream",
     "text": [
      "FirstTo961 :  [[10 23 29 33 37 40]\n",
      " [ 9 13 21 25 32 42]\n",
      " [11 16 19 21 27 31]\n",
      " ...\n",
      " [ 1 14 15 24 40 41]\n",
      " [ 2 18 24 30 32 45]\n",
      " [11 20 29 31 33 42]]\n",
      "FirstTo961 :  [[10 23 29 33 37 40]\n",
      " [ 9 13 21 25 32 42]\n",
      " [11 16 19 21 27 31]\n",
      " ...\n",
      " [ 2  9 10 16 35 37]\n",
      " [ 1 14 15 24 40 41]\n",
      " [ 2 18 24 30 32 45]]\n",
      "FirstTo961.shpae :  (960, 6)\n",
      "y.shape :  (6, 6)\n"
     ]
    }
   ],
   "source": [
    "# Delete last Winning number\n",
    "FirstTo961=np.array(lotto)\n",
    "print(\"FirstTo961 : \", FirstTo961)\n",
    "FirstTo961=np.delete(FirstTo961,960,axis=0)\n",
    "print(\"FirstTo961 : \", FirstTo961)\n",
    "\n",
    "#check array shape\n",
    "print(\"FirstTo961.shpae : \", FirstTo961.shape)\n",
    "print(\"y.shape : \", y.shape)"
   ]
  },
  {
   "cell_type": "code",
   "execution_count": 4,
   "id": "e07eefb0",
   "metadata": {},
   "outputs": [
    {
     "data": {
      "text/plain": [
       "\"for i in range(949,len(FirstTo961)):            # 세로 크기\\n    for j in range(len(FirstTo961[i])):     # 가로 크기\\n        print(FirstTo961[i][j], end=' ')\\n    print()\""
      ]
     },
     "execution_count": 4,
     "metadata": {},
     "output_type": "execute_result"
    }
   ],
   "source": [
    "#Check last 10\n",
    "'''for i in range(949,len(FirstTo961)):            # 세로 크기\n",
    "    for j in range(len(FirstTo961[i])):     # 가로 크기\n",
    "        print(FirstTo961[i][j], end=' ')\n",
    "    print()'''"
   ]
  },
  {
   "cell_type": "markdown",
   "id": "f8414bdd",
   "metadata": {},
   "source": [
    "#### 3. Model Configuration"
   ]
  },
  {
   "cell_type": "code",
   "execution_count": 5,
   "id": "3f4b471f",
   "metadata": {},
   "outputs": [],
   "source": [
    "from keras.models import Model\n",
    "from keras.layers import Dense,Input\n",
    "\n",
    "input1=Input(shape=(6,6))\n",
    "dense1=Dense(100, activation='relu')(input1)\n",
    "dense2=Dense(30)(dense1)\n",
    "dense3=Dense(5)(dense2)\n",
    "output1=Dense(1)(dense3)\n",
    "\n",
    "model=Model(inputs=input1, outputs=output1)"
   ]
  },
  {
   "cell_type": "markdown",
   "id": "4ff163fe",
   "metadata": {},
   "source": [
    "#### 4. Training"
   ]
  },
  {
   "cell_type": "code",
   "execution_count": 6,
   "id": "84fa7098",
   "metadata": {},
   "outputs": [
    {
     "name": "stdout",
     "output_type": "stream",
     "text": [
      "Epoch 1/100\n",
      "WARNING:tensorflow:Model was constructed with shape (None, 6, 6) for input KerasTensor(type_spec=TensorSpec(shape=(None, 6, 6), dtype=tf.float32, name='input_1'), name='input_1', description=\"created by layer 'input_1'\"), but it was called on an input with incompatible shape (1, 6).\n",
      "WARNING:tensorflow:Model was constructed with shape (None, 6, 6) for input KerasTensor(type_spec=TensorSpec(shape=(None, 6, 6), dtype=tf.float32, name='input_1'), name='input_1', description=\"created by layer 'input_1'\"), but it was called on an input with incompatible shape (1, 6).\n",
      "960/960 [==============================] - 2s 1ms/step - loss: 206.4558 - mse: 206.4558\n",
      "Epoch 2/100\n",
      "960/960 [==============================] - 1s 1ms/step - loss: 142.6846 - mse: 142.6846\n",
      "Epoch 3/100\n",
      "960/960 [==============================] - 1s 1ms/step - loss: 144.9606 - mse: 144.9606\n",
      "Epoch 4/100\n",
      "960/960 [==============================] - 1s 1ms/step - loss: 144.7321 - mse: 144.7321\n",
      "Epoch 5/100\n",
      "960/960 [==============================] - 1s 1ms/step - loss: 142.9574 - mse: 142.9574\n",
      "Epoch 6/100\n",
      "960/960 [==============================] - 1s 1ms/step - loss: 144.1360 - mse: 144.1360\n",
      "Epoch 7/100\n",
      "960/960 [==============================] - 1s 1ms/step - loss: 143.9153 - mse: 143.9153\n",
      "Epoch 8/100\n",
      "960/960 [==============================] - 1s 1ms/step - loss: 146.7318 - mse: 146.7318\n",
      "Epoch 9/100\n",
      "960/960 [==============================] - 1s 1ms/step - loss: 145.7553 - mse: 145.7553\n",
      "Epoch 10/100\n",
      "960/960 [==============================] - 1s 1ms/step - loss: 139.1823 - mse: 139.1823\n",
      "Epoch 11/100\n",
      "960/960 [==============================] - 1s 1ms/step - loss: 143.5826 - mse: 143.5826\n",
      "Epoch 12/100\n",
      "960/960 [==============================] - 2s 2ms/step - loss: 145.1397 - mse: 145.1397\n",
      "Epoch 13/100\n",
      "960/960 [==============================] - 1s 2ms/step - loss: 144.4730 - mse: 144.4730\n",
      "Epoch 14/100\n",
      "960/960 [==============================] - 1s 2ms/step - loss: 143.7181 - mse: 143.7181\n",
      "Epoch 15/100\n",
      "960/960 [==============================] - 1s 1ms/step - loss: 145.1445 - mse: 145.1445\n",
      "Epoch 16/100\n",
      "960/960 [==============================] - 1s 1ms/step - loss: 143.9242 - mse: 143.9242\n",
      "Epoch 17/100\n",
      "960/960 [==============================] - 1s 1ms/step - loss: 143.3483 - mse: 143.3483\n",
      "Epoch 18/100\n",
      "960/960 [==============================] - 1s 1ms/step - loss: 145.3918 - mse: 145.3918\n",
      "Epoch 19/100\n",
      "960/960 [==============================] - 1s 1ms/step - loss: 142.7210 - mse: 142.7210\n",
      "Epoch 20/100\n",
      "960/960 [==============================] - 1s 2ms/step - loss: 145.4655 - mse: 145.4655\n",
      "Epoch 21/100\n",
      "960/960 [==============================] - 2s 2ms/step - loss: 144.8056 - mse: 144.8056\n",
      "Epoch 22/100\n",
      "960/960 [==============================] - 2s 2ms/step - loss: 141.0532 - mse: 141.0532\n",
      "Epoch 23/100\n",
      "960/960 [==============================] - 2s 2ms/step - loss: 140.4507 - mse: 140.4507\n",
      "Epoch 24/100\n",
      "960/960 [==============================] - 2s 2ms/step - loss: 142.8563 - mse: 142.8563\n",
      "Epoch 25/100\n",
      "960/960 [==============================] - 2s 2ms/step - loss: 142.5864 - mse: 142.5864\n",
      "Epoch 26/100\n",
      "960/960 [==============================] - 2s 2ms/step - loss: 140.2572 - mse: 140.2572\n",
      "Epoch 27/100\n",
      "960/960 [==============================] - 2s 2ms/step - loss: 143.4050 - mse: 143.4050\n",
      "Epoch 28/100\n",
      "960/960 [==============================] - 2s 2ms/step - loss: 143.6793 - mse: 143.6793\n",
      "Epoch 29/100\n",
      "960/960 [==============================] - 1s 1ms/step - loss: 143.2176 - mse: 143.2176\n",
      "Epoch 30/100\n",
      "960/960 [==============================] - 1s 1ms/step - loss: 140.6179 - mse: 140.6179\n",
      "Epoch 31/100\n",
      "960/960 [==============================] - 1s 1ms/step - loss: 141.2962 - mse: 141.2962\n",
      "Epoch 32/100\n",
      "960/960 [==============================] - 1s 1ms/step - loss: 145.0143 - mse: 145.0143\n",
      "Epoch 33/100\n",
      "960/960 [==============================] - 1s 1ms/step - loss: 142.7127 - mse: 142.7127\n",
      "Epoch 34/100\n",
      "960/960 [==============================] - 1s 1ms/step - loss: 143.3449 - mse: 143.3449\n",
      "Epoch 35/100\n",
      "960/960 [==============================] - 1s 1ms/step - loss: 142.9179 - mse: 142.9179\n",
      "Epoch 36/100\n",
      "960/960 [==============================] - 1s 1ms/step - loss: 143.8913 - mse: 143.8913\n",
      "Epoch 37/100\n",
      "960/960 [==============================] - 1s 1ms/step - loss: 141.1455 - mse: 141.1455\n",
      "Epoch 38/100\n",
      "960/960 [==============================] - 1s 1ms/step - loss: 142.9648 - mse: 142.9648\n",
      "Epoch 39/100\n",
      "960/960 [==============================] - 1s 1ms/step - loss: 138.5993 - mse: 138.5993\n",
      "Epoch 40/100\n",
      "960/960 [==============================] - 1s 1ms/step - loss: 141.0308 - mse: 141.0308\n",
      "Epoch 41/100\n",
      "960/960 [==============================] - 1s 1ms/step - loss: 142.3411 - mse: 142.3411\n",
      "Epoch 42/100\n",
      "960/960 [==============================] - 1s 1ms/step - loss: 145.3204 - mse: 145.3204\n",
      "Epoch 43/100\n",
      "960/960 [==============================] - 1s 1ms/step - loss: 144.9660 - mse: 144.9660\n",
      "Epoch 44/100\n",
      "960/960 [==============================] - 1s 1ms/step - loss: 143.2833 - mse: 143.2833\n",
      "Epoch 45/100\n",
      "960/960 [==============================] - 1s 1ms/step - loss: 144.3659 - mse: 144.3659\n",
      "Epoch 46/100\n",
      "960/960 [==============================] - 1s 1ms/step - loss: 139.5001 - mse: 139.5001\n",
      "Epoch 47/100\n",
      "960/960 [==============================] - 1s 1ms/step - loss: 146.3975 - mse: 146.3975\n",
      "Epoch 48/100\n",
      "960/960 [==============================] - 1s 1ms/step - loss: 141.8355 - mse: 141.8355\n",
      "Epoch 49/100\n",
      "960/960 [==============================] - 1s 1ms/step - loss: 142.5540 - mse: 142.5540\n",
      "Epoch 50/100\n",
      "960/960 [==============================] - 1s 1ms/step - loss: 147.2092 - mse: 147.2092\n",
      "Epoch 51/100\n",
      "960/960 [==============================] - 1s 1ms/step - loss: 142.6122 - mse: 142.6122\n",
      "Epoch 52/100\n",
      "960/960 [==============================] - 1s 1ms/step - loss: 143.9180 - mse: 143.9180\n",
      "Epoch 53/100\n",
      "960/960 [==============================] - 1s 1ms/step - loss: 143.2751 - mse: 143.2751\n",
      "Epoch 54/100\n",
      "960/960 [==============================] - 1s 1ms/step - loss: 141.9264 - mse: 141.9264\n",
      "Epoch 55/100\n",
      "960/960 [==============================] - 1s 1ms/step - loss: 147.5637 - mse: 147.5637\n",
      "Epoch 56/100\n",
      "960/960 [==============================] - 1s 1ms/step - loss: 141.2903 - mse: 141.2903\n",
      "Epoch 57/100\n",
      "960/960 [==============================] - 1s 1ms/step - loss: 142.1025 - mse: 142.1025\n",
      "Epoch 58/100\n",
      "960/960 [==============================] - 1s 1ms/step - loss: 143.3876 - mse: 143.3876\n",
      "Epoch 59/100\n",
      "960/960 [==============================] - 1s 1ms/step - loss: 145.5338 - mse: 145.5338\n",
      "Epoch 60/100\n",
      "960/960 [==============================] - 1s 1ms/step - loss: 145.9564 - mse: 145.9564\n",
      "Epoch 61/100\n",
      "960/960 [==============================] - 1s 1ms/step - loss: 141.4056 - mse: 141.4056\n",
      "Epoch 62/100\n",
      "960/960 [==============================] - 1s 1ms/step - loss: 142.9731 - mse: 142.9731\n",
      "Epoch 63/100\n",
      "960/960 [==============================] - 1s 1ms/step - loss: 143.9859 - mse: 143.9859\n",
      "Epoch 64/100\n",
      "960/960 [==============================] - 1s 1ms/step - loss: 146.1869 - mse: 146.1869\n",
      "Epoch 65/100\n",
      "960/960 [==============================] - 1s 1ms/step - loss: 141.1329 - mse: 141.1329\n",
      "Epoch 66/100\n",
      "960/960 [==============================] - 1s 1ms/step - loss: 146.7314 - mse: 146.7314\n",
      "Epoch 67/100\n",
      "960/960 [==============================] - 1s 1ms/step - loss: 142.4330 - mse: 142.4330\n",
      "Epoch 68/100\n",
      "960/960 [==============================] - 1s 1ms/step - loss: 143.0930 - mse: 143.0930\n",
      "Epoch 69/100\n",
      "960/960 [==============================] - 1s 1ms/step - loss: 143.3100 - mse: 143.3100\n",
      "Epoch 70/100\n",
      "960/960 [==============================] - 1s 1ms/step - loss: 143.6822 - mse: 143.6822\n",
      "Epoch 71/100\n",
      "960/960 [==============================] - 1s 1ms/step - loss: 141.5884 - mse: 141.5884\n",
      "Epoch 72/100\n",
      "960/960 [==============================] - 1s 1ms/step - loss: 147.0276 - mse: 147.0276\n",
      "Epoch 73/100\n",
      "960/960 [==============================] - 1s 1ms/step - loss: 143.6060 - mse: 143.6060\n",
      "Epoch 74/100\n",
      "960/960 [==============================] - 1s 1ms/step - loss: 146.9874 - mse: 146.9874\n",
      "Epoch 75/100\n",
      "960/960 [==============================] - 1s 1ms/step - loss: 143.6707 - mse: 143.6707\n",
      "Epoch 76/100\n",
      "960/960 [==============================] - 1s 1ms/step - loss: 143.1666 - mse: 143.1666\n",
      "Epoch 77/100\n",
      "960/960 [==============================] - 1s 1ms/step - loss: 143.1480 - mse: 143.1480\n",
      "Epoch 78/100\n",
      "960/960 [==============================] - 1s 1ms/step - loss: 145.2248 - mse: 145.2248\n",
      "Epoch 79/100\n",
      "960/960 [==============================] - 1s 1ms/step - loss: 144.9199 - mse: 144.9199\n",
      "Epoch 80/100\n",
      "960/960 [==============================] - 1s 1ms/step - loss: 139.5817 - mse: 139.5817\n",
      "Epoch 81/100\n",
      "960/960 [==============================] - 1s 1ms/step - loss: 140.2364 - mse: 140.2364\n",
      "Epoch 82/100\n",
      "960/960 [==============================] - 1s 1ms/step - loss: 145.7942 - mse: 145.7942\n",
      "Epoch 83/100\n",
      "960/960 [==============================] - 1s 1ms/step - loss: 141.0338 - mse: 141.0338\n",
      "Epoch 84/100\n",
      "960/960 [==============================] - 1s 1ms/step - loss: 143.5626 - mse: 143.5626\n",
      "Epoch 85/100\n",
      "960/960 [==============================] - 1s 1ms/step - loss: 145.5491 - mse: 145.5491\n",
      "Epoch 86/100\n",
      "960/960 [==============================] - 1s 1ms/step - loss: 143.2732 - mse: 143.2732\n",
      "Epoch 87/100\n",
      "960/960 [==============================] - 1s 1ms/step - loss: 146.3889 - mse: 146.3889\n",
      "Epoch 88/100\n",
      "960/960 [==============================] - 1s 1ms/step - loss: 143.4588 - mse: 143.4588\n",
      "Epoch 89/100\n",
      "960/960 [==============================] - 1s 1ms/step - loss: 143.0750 - mse: 143.0750\n",
      "Epoch 90/100\n",
      "960/960 [==============================] - 1s 1ms/step - loss: 143.9052 - mse: 143.9052\n",
      "Epoch 91/100\n",
      "960/960 [==============================] - 1s 1ms/step - loss: 140.0630 - mse: 140.0630\n",
      "Epoch 92/100\n",
      "960/960 [==============================] - 1s 1ms/step - loss: 144.0224 - mse: 144.0224\n",
      "Epoch 93/100\n",
      "960/960 [==============================] - 1s 1ms/step - loss: 141.9499 - mse: 141.9499\n",
      "Epoch 94/100\n",
      "960/960 [==============================] - 1s 1ms/step - loss: 142.4866 - mse: 142.4866\n",
      "Epoch 95/100\n",
      "960/960 [==============================] - 1s 1ms/step - loss: 142.4872 - mse: 142.4872\n",
      "Epoch 96/100\n",
      "960/960 [==============================] - 1s 1ms/step - loss: 141.5125 - mse: 141.5125\n",
      "Epoch 97/100\n",
      "960/960 [==============================] - 1s 1ms/step - loss: 141.5026 - mse: 141.5026\n",
      "Epoch 98/100\n",
      "960/960 [==============================] - 1s 1ms/step - loss: 144.1420 - mse: 144.1420\n",
      "Epoch 99/100\n",
      "960/960 [==============================] - 1s 1ms/step - loss: 146.2530 - mse: 146.2530\n",
      "Epoch 100/100\n",
      "960/960 [==============================] - 1s 1ms/step - loss: 144.5093 - mse: 144.5093\n"
     ]
    },
    {
     "data": {
      "text/plain": [
       "<tensorflow.python.keras.callbacks.History at 0x7ff4803c48e0>"
      ]
     },
     "execution_count": 6,
     "metadata": {},
     "output_type": "execute_result"
    }
   ],
   "source": [
    "model.compile(loss='mse', optimizer='adam', metrics=['mse'])\n",
    "#model.fit(FirstTo961, y, epochs=100, batch_size=1)\n",
    "model.fit(FirstTo961, FirstTo961, epochs=100, batch_size=1)"
   ]
  },
  {
   "cell_type": "markdown",
   "id": "4176bfd3",
   "metadata": {},
   "source": [
    "#### 5. Evaluation, Predict"
   ]
  },
  {
   "cell_type": "code",
   "execution_count": 7,
   "id": "71129f54",
   "metadata": {},
   "outputs": [
    {
     "name": "stdout",
     "output_type": "stream",
     "text": [
      "WARNING:tensorflow:Model was constructed with shape (None, 6, 6) for input KerasTensor(type_spec=TensorSpec(shape=(None, 6, 6), dtype=tf.float32, name='input_1'), name='input_1', description=\"created by layer 'input_1'\"), but it was called on an input with incompatible shape (1, 6).\n",
      "960/960 [==============================] - 1s 1ms/step - loss: 143.8345 - mse: 143.8345\n",
      "mse :  143.8345184326172\n",
      "WARNING:tensorflow:Model was constructed with shape (None, 6, 6) for input KerasTensor(type_spec=TensorSpec(shape=(None, 6, 6), dtype=tf.float32, name='input_1'), name='input_1', description=\"created by layer 'input_1'\"), but it was called on an input with incompatible shape (None, 6).\n",
      "predict : \n",
      " [[27.174734]\n",
      " [24.8144  ]\n",
      " [22.118622]\n",
      " [17.791767]\n",
      " [25.305304]\n",
      " [20.876549]]\n"
     ]
    }
   ],
   "source": [
    "loss, mse=model.evaluate(FirstTo961, FirstTo961,batch_size=1)\n",
    "print(\"mse : \", mse)\n",
    "y_predict=model.predict(y)\n",
    "print(\"predict : \\n\", y_predict)"
   ]
  },
  {
   "cell_type": "code",
   "execution_count": null,
   "id": "d1ed08e5",
   "metadata": {},
   "outputs": [],
   "source": []
  }
 ],
 "metadata": {
  "kernelspec": {
   "display_name": "Python 3",
   "language": "python",
   "name": "python3"
  },
  "language_info": {
   "codemirror_mode": {
    "name": "ipython",
    "version": 3
   },
   "file_extension": ".py",
   "mimetype": "text/x-python",
   "name": "python",
   "nbconvert_exporter": "python",
   "pygments_lexer": "ipython3",
   "version": "3.8.8"
  }
 },
 "nbformat": 4,
 "nbformat_minor": 5
}
