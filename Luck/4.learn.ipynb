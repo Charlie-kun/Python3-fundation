{
 "cells": [
  {
   "cell_type": "markdown",
   "id": "69ae25af",
   "metadata": {},
   "source": [
    "### 2. MethodModel"
   ]
  },
  {
   "cell_type": "markdown",
   "id": "6ad0c92e",
   "metadata": {},
   "source": [
    "#### 1. Data"
   ]
  },
  {
   "cell_type": "code",
   "execution_count": 1,
   "id": "eff2f517",
   "metadata": {},
   "outputs": [],
   "source": [
    "import numpy as np\n",
    "import pandas as pd\n",
    "\n",
    "import scipy\n",
    "from scipy import stats\n",
    "import matplotlib.pyplot as plt"
   ]
  },
  {
   "cell_type": "markdown",
   "id": "cad4bf61",
   "metadata": {},
   "source": [
    "#### 1. Read csv file"
   ]
  },
  {
   "cell_type": "code",
   "execution_count": 2,
   "id": "11d6a43a",
   "metadata": {},
   "outputs": [
    {
     "name": "stdout",
     "output_type": "stream",
     "text": [
      "      0   1   2   3   4   5\n",
      "0    10  23  29  33  37  40\n",
      "1     9  13  21  25  32  42\n",
      "2    11  16  19  21  27  31\n",
      "3    14  27  30  31  40  42\n",
      "4    16  24  29  40  41  42\n",
      "..   ..  ..  ..  ..  ..  ..\n",
      "957   2   9  10  16  35  37\n",
      "958   1  14  15  24  40  41\n",
      "959   2  18  24  30  32  45\n",
      "960  11  20  29  31  33  42\n",
      "961   1  18  28  31  34  43\n",
      "\n",
      "[962 rows x 6 columns]\n"
     ]
    }
   ],
   "source": [
    "lotto =pd.read_csv('./LuckData.csv')\n",
    "print(lotto)\n",
    "#962\n",
    "N=np.array([1,18,28,31,34,43])\n",
    "y=np.array([[1,18,28,31,34,43],[11,20,29,31,33,42],[2,18, 24,30,32,45],[1,14,15,24,40,41],[2,9,10,16,35,37],[4,15,24,35,36,40]])"
   ]
  },
  {
   "cell_type": "markdown",
   "id": "9343153e",
   "metadata": {},
   "source": [
    "#### 2. Change csv to array"
   ]
  },
  {
   "cell_type": "code",
   "execution_count": 3,
   "id": "6c2af276",
   "metadata": {},
   "outputs": [
    {
     "name": "stdout",
     "output_type": "stream",
     "text": [
      "FirstToEnd :  [[10 23 29 33 37 40]\n",
      " [ 9 13 21 25 32 42]\n",
      " [11 16 19 21 27 31]\n",
      " ...\n",
      " [ 2 18 24 30 32 45]\n",
      " [11 20 29 31 33 42]\n",
      " [ 1 18 28 31 34 43]]\n",
      "FirstToEnd.shpae :  (962, 6)\n",
      "y.shape :  (6, 6)\n"
     ]
    }
   ],
   "source": [
    "# Delete last Winning number\n",
    "FirstToEnd=np.array(lotto)\n",
    "print(\"FirstToEnd : \", FirstToEnd)\n",
    "\n",
    "#check array shape\n",
    "print(\"FirstToEnd.shpae : \", FirstToEnd.shape)\n",
    "print(\"y.shape : \", y.shape)"
   ]
  },
  {
   "cell_type": "markdown",
   "id": "2944e48c",
   "metadata": {},
   "source": [
    "#### 3. Model Configuration"
   ]
  },
  {
   "cell_type": "code",
   "execution_count": 4,
   "id": "8442601c",
   "metadata": {},
   "outputs": [],
   "source": [
    "from keras.models import Model\n",
    "from keras.layers import Dense,Input\n",
    "\n",
    "'''\n",
    "input1=Input(shape=(6,6))\n",
    "dense1=Dense(100, activation='relu')(input1)\n",
    "dense2=Dense(30)(dense1)\n",
    "dense3=Dense(5)(dense2)\n",
    "output1=Dense(1)(dense3)\n",
    "'''\n",
    "\n",
    "input1=Input(shape=(6,6))\n",
    "dense1=Dense(45, activation='relu')(input1)\n",
    "dense2=Dense(44)(dense1)\n",
    "dense3=Dense(43)(dense2)\n",
    "dense4=Dense(42)(dense3)\n",
    "dense5=Dense(41)(dense4)\n",
    "dense6=Dense(5)(dense5)\n",
    "output1=Dense(1)(dense6)\n",
    "\n",
    "model=Model(inputs=input1, outputs=output1)"
   ]
  },
  {
   "cell_type": "markdown",
   "id": "a74b3820",
   "metadata": {},
   "source": [
    "#### 4. Training"
   ]
  },
  {
   "cell_type": "code",
   "execution_count": 5,
   "id": "28c74e1f",
   "metadata": {},
   "outputs": [
    {
     "name": "stdout",
     "output_type": "stream",
     "text": [
      "Epoch 1/100\n",
      "WARNING:tensorflow:Model was constructed with shape (None, 6, 6) for input KerasTensor(type_spec=TensorSpec(shape=(None, 6, 6), dtype=tf.float32, name='input_1'), name='input_1', description=\"created by layer 'input_1'\"), but it was called on an input with incompatible shape (1, 6).\n",
      "WARNING:tensorflow:Model was constructed with shape (None, 6, 6) for input KerasTensor(type_spec=TensorSpec(shape=(None, 6, 6), dtype=tf.float32, name='input_1'), name='input_1', description=\"created by layer 'input_1'\"), but it was called on an input with incompatible shape (1, 6).\n",
      "962/962 [==============================] - 2s 2ms/step - loss: 149.7937 - mse: 149.7937\n",
      "Epoch 2/100\n",
      "962/962 [==============================] - 1s 1ms/step - loss: 145.1583 - mse: 145.1583\n",
      "Epoch 3/100\n",
      "962/962 [==============================] - 1s 1ms/step - loss: 143.2605 - mse: 143.2605\n",
      "Epoch 4/100\n",
      "962/962 [==============================] - 1s 1ms/step - loss: 144.1341 - mse: 144.1341\n",
      "Epoch 5/100\n",
      "962/962 [==============================] - 1s 1ms/step - loss: 141.3203 - mse: 141.3203\n",
      "Epoch 6/100\n",
      "962/962 [==============================] - 1s 1ms/step - loss: 144.6707 - mse: 144.6707\n",
      "Epoch 7/100\n",
      "962/962 [==============================] - 1s 1ms/step - loss: 144.1887 - mse: 144.1887\n",
      "Epoch 8/100\n",
      "962/962 [==============================] - 1s 1ms/step - loss: 143.1008 - mse: 143.1008\n",
      "Epoch 9/100\n",
      "962/962 [==============================] - 1s 1ms/step - loss: 145.0304 - mse: 145.0304\n",
      "Epoch 10/100\n",
      "962/962 [==============================] - 1s 1ms/step - loss: 142.9397 - mse: 142.9397\n",
      "Epoch 11/100\n",
      "962/962 [==============================] - 1s 1ms/step - loss: 143.8338 - mse: 143.8338\n",
      "Epoch 12/100\n",
      "962/962 [==============================] - 1s 1ms/step - loss: 146.1400 - mse: 146.1400\n",
      "Epoch 13/100\n",
      "962/962 [==============================] - 1s 1ms/step - loss: 143.1471 - mse: 143.1471\n",
      "Epoch 14/100\n",
      "962/962 [==============================] - 1s 1ms/step - loss: 144.4154 - mse: 144.4154\n",
      "Epoch 15/100\n",
      "962/962 [==============================] - 1s 1ms/step - loss: 144.5881 - mse: 144.5881\n",
      "Epoch 16/100\n",
      "962/962 [==============================] - 1s 1ms/step - loss: 141.3414 - mse: 141.3414\n",
      "Epoch 17/100\n",
      "962/962 [==============================] - 1s 1ms/step - loss: 144.0847 - mse: 144.0847\n",
      "Epoch 18/100\n",
      "962/962 [==============================] - 1s 1ms/step - loss: 143.8901 - mse: 143.8901\n",
      "Epoch 19/100\n",
      "962/962 [==============================] - 1s 1ms/step - loss: 145.6561 - mse: 145.6561\n",
      "Epoch 20/100\n",
      "962/962 [==============================] - 1s 1ms/step - loss: 143.7949 - mse: 143.7949\n",
      "Epoch 21/100\n",
      "962/962 [==============================] - 1s 1ms/step - loss: 139.7431 - mse: 139.7431\n",
      "Epoch 22/100\n",
      "962/962 [==============================] - 1s 1ms/step - loss: 143.1795 - mse: 143.1795\n",
      "Epoch 23/100\n",
      "962/962 [==============================] - 1s 1ms/step - loss: 142.1593 - mse: 142.1593\n",
      "Epoch 24/100\n",
      "962/962 [==============================] - 1s 1ms/step - loss: 146.3917 - mse: 146.3917\n",
      "Epoch 25/100\n",
      "962/962 [==============================] - 1s 1ms/step - loss: 143.5482 - mse: 143.5482\n",
      "Epoch 26/100\n",
      "962/962 [==============================] - 1s 1ms/step - loss: 145.7236 - mse: 145.7236\n",
      "Epoch 27/100\n",
      "962/962 [==============================] - 1s 1ms/step - loss: 143.3131 - mse: 143.3131\n",
      "Epoch 28/100\n",
      "962/962 [==============================] - 1s 1ms/step - loss: 144.8994 - mse: 144.8994\n",
      "Epoch 29/100\n",
      "962/962 [==============================] - 1s 1ms/step - loss: 145.0574 - mse: 145.0574\n",
      "Epoch 30/100\n",
      "962/962 [==============================] - 1s 1ms/step - loss: 146.0961 - mse: 146.0961\n",
      "Epoch 31/100\n",
      "962/962 [==============================] - 1s 1ms/step - loss: 145.0241 - mse: 145.0241\n",
      "Epoch 32/100\n",
      "962/962 [==============================] - 1s 1ms/step - loss: 142.1526 - mse: 142.1526\n",
      "Epoch 33/100\n",
      "962/962 [==============================] - 1s 1ms/step - loss: 144.8294 - mse: 144.8294\n",
      "Epoch 34/100\n",
      "962/962 [==============================] - 1s 1ms/step - loss: 144.0429 - mse: 144.0429\n",
      "Epoch 35/100\n",
      "962/962 [==============================] - 1s 1ms/step - loss: 145.2239 - mse: 145.2239\n",
      "Epoch 36/100\n",
      "962/962 [==============================] - 1s 1ms/step - loss: 142.4360 - mse: 142.4360\n",
      "Epoch 37/100\n",
      "962/962 [==============================] - 1s 1ms/step - loss: 146.0969 - mse: 146.0969\n",
      "Epoch 38/100\n",
      "962/962 [==============================] - 1s 1ms/step - loss: 141.4822 - mse: 141.4822\n",
      "Epoch 39/100\n",
      "962/962 [==============================] - 1s 1ms/step - loss: 143.3703 - mse: 143.3703\n",
      "Epoch 40/100\n",
      "962/962 [==============================] - 1s 1ms/step - loss: 146.2361 - mse: 146.2361\n",
      "Epoch 41/100\n",
      "962/962 [==============================] - 1s 1ms/step - loss: 139.3187 - mse: 139.3187\n",
      "Epoch 42/100\n",
      "962/962 [==============================] - 1s 1ms/step - loss: 140.6905 - mse: 140.6905\n",
      "Epoch 43/100\n",
      "962/962 [==============================] - 1s 1ms/step - loss: 147.4047 - mse: 147.4047\n",
      "Epoch 44/100\n",
      "962/962 [==============================] - 1s 1ms/step - loss: 145.6052 - mse: 145.6052\n",
      "Epoch 45/100\n",
      "962/962 [==============================] - 1s 1ms/step - loss: 145.3850 - mse: 145.3850\n",
      "Epoch 46/100\n",
      "962/962 [==============================] - 1s 1ms/step - loss: 146.7624 - mse: 146.7624\n",
      "Epoch 47/100\n",
      "962/962 [==============================] - 1s 1ms/step - loss: 142.2238 - mse: 142.2238\n",
      "Epoch 48/100\n",
      "962/962 [==============================] - 1s 1ms/step - loss: 140.3935 - mse: 140.3935\n",
      "Epoch 49/100\n",
      "962/962 [==============================] - 1s 1ms/step - loss: 149.2007 - mse: 149.2007\n",
      "Epoch 50/100\n",
      "962/962 [==============================] - 1s 1ms/step - loss: 145.5104 - mse: 145.5104\n",
      "Epoch 51/100\n",
      "962/962 [==============================] - 1s 1ms/step - loss: 143.4910 - mse: 143.4910\n",
      "Epoch 52/100\n",
      "962/962 [==============================] - 1s 1ms/step - loss: 145.5971 - mse: 145.5971\n",
      "Epoch 53/100\n",
      "962/962 [==============================] - 1s 1ms/step - loss: 143.0591 - mse: 143.0591\n",
      "Epoch 54/100\n",
      "962/962 [==============================] - 1s 1ms/step - loss: 143.5103 - mse: 143.5103\n",
      "Epoch 55/100\n",
      "962/962 [==============================] - 1s 1ms/step - loss: 144.8015 - mse: 144.8015\n",
      "Epoch 56/100\n",
      "962/962 [==============================] - 1s 1ms/step - loss: 144.7265 - mse: 144.7265\n",
      "Epoch 57/100\n",
      "962/962 [==============================] - 1s 1ms/step - loss: 140.7358 - mse: 140.7358\n",
      "Epoch 58/100\n",
      "962/962 [==============================] - 1s 1ms/step - loss: 145.8419 - mse: 145.8419\n",
      "Epoch 59/100\n",
      "962/962 [==============================] - 1s 1ms/step - loss: 145.6167 - mse: 145.6167\n",
      "Epoch 60/100\n",
      "962/962 [==============================] - 1s 1ms/step - loss: 141.0096 - mse: 141.0096\n",
      "Epoch 61/100\n",
      "962/962 [==============================] - 1s 1ms/step - loss: 141.8060 - mse: 141.8060\n",
      "Epoch 62/100\n",
      "962/962 [==============================] - 1s 1ms/step - loss: 145.8822 - mse: 145.8822\n",
      "Epoch 63/100\n",
      "962/962 [==============================] - 1s 1ms/step - loss: 143.1783 - mse: 143.1783\n",
      "Epoch 64/100\n",
      "962/962 [==============================] - 1s 1ms/step - loss: 143.9313 - mse: 143.9313\n",
      "Epoch 65/100\n",
      "962/962 [==============================] - 1s 1ms/step - loss: 146.2723 - mse: 146.2723\n",
      "Epoch 66/100\n",
      "962/962 [==============================] - 1s 1ms/step - loss: 142.7307 - mse: 142.7307\n",
      "Epoch 67/100\n",
      "962/962 [==============================] - 1s 1ms/step - loss: 141.3231 - mse: 141.3231\n",
      "Epoch 68/100\n",
      "962/962 [==============================] - 1s 1ms/step - loss: 140.5046 - mse: 140.5046\n",
      "Epoch 69/100\n",
      "962/962 [==============================] - 1s 1ms/step - loss: 141.6798 - mse: 141.6798\n",
      "Epoch 70/100\n",
      "962/962 [==============================] - 1s 1ms/step - loss: 141.4409 - mse: 141.4409\n",
      "Epoch 71/100\n",
      "962/962 [==============================] - 1s 1ms/step - loss: 145.1472 - mse: 145.1472\n",
      "Epoch 72/100\n",
      "962/962 [==============================] - 1s 1ms/step - loss: 142.0727 - mse: 142.0727\n",
      "Epoch 73/100\n",
      "962/962 [==============================] - 1s 1ms/step - loss: 141.3735 - mse: 141.3735\n",
      "Epoch 74/100\n",
      "962/962 [==============================] - 1s 1ms/step - loss: 143.5558 - mse: 143.5558\n",
      "Epoch 75/100\n",
      "962/962 [==============================] - 1s 1ms/step - loss: 143.4645 - mse: 143.4645\n",
      "Epoch 76/100\n",
      "962/962 [==============================] - 1s 1ms/step - loss: 142.8889 - mse: 142.8889\n",
      "Epoch 77/100\n",
      "962/962 [==============================] - 1s 1ms/step - loss: 140.0684 - mse: 140.0684\n",
      "Epoch 78/100\n",
      "962/962 [==============================] - 1s 1ms/step - loss: 145.4504 - mse: 145.4504\n",
      "Epoch 79/100\n",
      "962/962 [==============================] - 1s 1ms/step - loss: 145.2099 - mse: 145.2099\n",
      "Epoch 80/100\n",
      "962/962 [==============================] - 1s 1ms/step - loss: 144.3771 - mse: 144.3771\n",
      "Epoch 81/100\n",
      "962/962 [==============================] - 1s 1ms/step - loss: 145.1763 - mse: 145.1763\n",
      "Epoch 82/100\n",
      "962/962 [==============================] - 1s 1ms/step - loss: 146.9739 - mse: 146.9739\n",
      "Epoch 83/100\n",
      "962/962 [==============================] - 1s 1ms/step - loss: 143.4639 - mse: 143.4639\n",
      "Epoch 84/100\n",
      "962/962 [==============================] - 1s 1ms/step - loss: 144.5978 - mse: 144.5978\n",
      "Epoch 85/100\n",
      "962/962 [==============================] - 1s 1ms/step - loss: 141.6649 - mse: 141.6649\n",
      "Epoch 86/100\n",
      "962/962 [==============================] - 1s 1ms/step - loss: 140.9517 - mse: 140.9517\n",
      "Epoch 87/100\n",
      "962/962 [==============================] - 1s 1ms/step - loss: 144.3435 - mse: 144.3435\n",
      "Epoch 88/100\n",
      "962/962 [==============================] - 1s 1ms/step - loss: 144.9090 - mse: 144.9090\n",
      "Epoch 89/100\n",
      "962/962 [==============================] - 1s 1ms/step - loss: 142.3527 - mse: 142.3527\n",
      "Epoch 90/100\n",
      "962/962 [==============================] - 1s 1ms/step - loss: 140.2652 - mse: 140.2652\n",
      "Epoch 91/100\n",
      "962/962 [==============================] - 1s 1ms/step - loss: 147.0992 - mse: 147.0992\n",
      "Epoch 92/100\n",
      "962/962 [==============================] - 1s 1ms/step - loss: 143.5047 - mse: 143.5047\n",
      "Epoch 93/100\n",
      "962/962 [==============================] - 1s 1ms/step - loss: 143.6993 - mse: 143.6993\n",
      "Epoch 94/100\n",
      "962/962 [==============================] - 1s 1ms/step - loss: 143.6420 - mse: 143.6420\n",
      "Epoch 95/100\n",
      "962/962 [==============================] - 1s 1ms/step - loss: 143.7013 - mse: 143.7013\n",
      "Epoch 96/100\n",
      "962/962 [==============================] - 1s 1ms/step - loss: 142.4168 - mse: 142.4168\n",
      "Epoch 97/100\n",
      "962/962 [==============================] - 1s 1ms/step - loss: 142.2275 - mse: 142.2275\n",
      "Epoch 98/100\n",
      "962/962 [==============================] - 1s 1ms/step - loss: 144.6415 - mse: 144.6415\n",
      "Epoch 99/100\n",
      "962/962 [==============================] - 1s 1ms/step - loss: 143.6219 - mse: 143.6219\n",
      "Epoch 100/100\n",
      "962/962 [==============================] - 1s 1ms/step - loss: 139.6653 - mse: 139.6653\n"
     ]
    },
    {
     "data": {
      "text/plain": [
       "<tensorflow.python.keras.callbacks.History at 0x7fb74c61c0a0>"
      ]
     },
     "execution_count": 5,
     "metadata": {},
     "output_type": "execute_result"
    }
   ],
   "source": [
    "model.compile(loss='mse', optimizer='adam', metrics=['mse'])\n",
    "#model.fit(FirstTo961, y, epochs=100, batch_size=1)\n",
    "model.fit(FirstToEnd, FirstToEnd, epochs=100, batch_size=1)"
   ]
  },
  {
   "cell_type": "markdown",
   "id": "bb41a09b",
   "metadata": {},
   "source": [
    "#### 5. Evaluation, Predict"
   ]
  },
  {
   "cell_type": "code",
   "execution_count": 6,
   "id": "34632a6a",
   "metadata": {},
   "outputs": [
    {
     "name": "stdout",
     "output_type": "stream",
     "text": [
      "WARNING:tensorflow:Model was constructed with shape (None, 6, 6) for input KerasTensor(type_spec=TensorSpec(shape=(None, 6, 6), dtype=tf.float32, name='input_1'), name='input_1', description=\"created by layer 'input_1'\"), but it was called on an input with incompatible shape (1, 6).\n",
      "962/962 [==============================] - 1s 1ms/step - loss: 143.6338 - mse: 143.6338A: 0s - loss: 143.1624 - mse: 143.\n",
      "mse :  143.63381958007812\n",
      "WARNING:tensorflow:Model was constructed with shape (None, 6, 6) for input KerasTensor(type_spec=TensorSpec(shape=(None, 6, 6), dtype=tf.float32, name='input_1'), name='input_1', description=\"created by layer 'input_1'\"), but it was called on an input with incompatible shape (None, 6).\n",
      "predict : \n",
      " [[25.819798]\n",
      " [27.654255]\n",
      " [25.15266 ]\n",
      " [22.48904 ]\n",
      " [18.158585]\n",
      " [25.654303]]\n"
     ]
    }
   ],
   "source": [
    "loss, mse=model.evaluate(FirstToEnd, FirstToEnd,batch_size=1)\n",
    "print(\"mse : \", mse)\n",
    "y_predict=model.predict(y)\n",
    "print(\"predict : \\n\", y_predict)"
   ]
  },
  {
   "cell_type": "code",
   "execution_count": null,
   "id": "4852ede1",
   "metadata": {},
   "outputs": [],
   "source": []
  }
 ],
 "metadata": {
  "kernelspec": {
   "display_name": "Python 3",
   "language": "python",
   "name": "python3"
  },
  "language_info": {
   "codemirror_mode": {
    "name": "ipython",
    "version": 3
   },
   "file_extension": ".py",
   "mimetype": "text/x-python",
   "name": "python",
   "nbconvert_exporter": "python",
   "pygments_lexer": "ipython3",
   "version": "3.8.8"
  }
 },
 "nbformat": 4,
 "nbformat_minor": 5
}
