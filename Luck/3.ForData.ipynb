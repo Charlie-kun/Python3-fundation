{
 "cells": [
  {
   "cell_type": "markdown",
   "id": "4e85df36",
   "metadata": {},
   "source": [
    "### 2. MethodModel"
   ]
  },
  {
   "cell_type": "markdown",
   "id": "878ed482",
   "metadata": {},
   "source": [
    "#### 1. Data"
   ]
  },
  {
   "cell_type": "code",
   "execution_count": 1,
   "id": "8793b6ae",
   "metadata": {},
   "outputs": [],
   "source": [
    "import numpy as np\n",
    "import pandas as pd\n",
    "\n",
    "import scipy\n",
    "from scipy import stats\n",
    "import matplotlib.pyplot as plt"
   ]
  },
  {
   "cell_type": "markdown",
   "id": "8ea9ecad",
   "metadata": {},
   "source": [
    "#### 1. Read csv file"
   ]
  },
  {
   "cell_type": "code",
   "execution_count": 2,
   "id": "72dd1adb",
   "metadata": {},
   "outputs": [
    {
     "name": "stdout",
     "output_type": "stream",
     "text": [
      "     Num1  Num2  Num3  Num4  Num5  Num6\n",
      "0      10    23    29    33    37    40\n",
      "1       9    13    21    25    32    42\n",
      "2      11    16    19    21    27    31\n",
      "3      14    27    30    31    40    42\n",
      "4      16    24    29    40    41    42\n",
      "..    ...   ...   ...   ...   ...   ...\n",
      "956     4    15    24    35    36    40\n",
      "957     2     9    10    16    35    37\n",
      "958     1    14    15    24    40    41\n",
      "959     2    18    24    30    32    45\n",
      "960    11    20    29    31    33    42\n",
      "\n",
      "[961 rows x 6 columns]\n"
     ]
    }
   ],
   "source": [
    "lotto =pd.read_csv('./LuckData.csv')\n",
    "print(lotto)\n",
    "#962\n",
    "N=np.array([1,18,28,31,34,43])\n",
    "y=np.array([[1,18,28,31,34,43],[11,20,29,31,33,42],[2,18, 24,30,32,45],[1,14,15,24,40,41],[2,9,10,16,35,37],[4,15,24,35,36,40]])"
   ]
  },
  {
   "cell_type": "markdown",
   "id": "115b85c4",
   "metadata": {},
   "source": [
    "#### 2. Change csv to array"
   ]
  },
  {
   "cell_type": "code",
   "execution_count": 3,
   "id": "e8620fe7",
   "metadata": {},
   "outputs": [
    {
     "name": "stdout",
     "output_type": "stream",
     "text": [
      "FirstToEnd :  [[10 23 29 33 37 40]\n",
      " [ 9 13 21 25 32 42]\n",
      " [11 16 19 21 27 31]\n",
      " ...\n",
      " [ 1 14 15 24 40 41]\n",
      " [ 2 18 24 30 32 45]\n",
      " [11 20 29 31 33 42]]\n",
      "FirstToEnd+N :  [[10 23 29 33 37 40]\n",
      " [ 9 13 21 25 32 42]\n",
      " [11 16 19 21 27 31]\n",
      " ...\n",
      " [ 2 18 24 30 32 45]\n",
      " [11 20 29 31 33 42]\n",
      " [ 1 18 28 31 34 43]]\n",
      "FirstToEnd.shpae :  (962, 6)\n",
      "y.shape :  (6, 6)\n"
     ]
    }
   ],
   "source": [
    "# Delete last Winning number\n",
    "FirstToEnd=np.array(lotto)\n",
    "print(\"FirstToEnd : \", FirstToEnd)\n",
    "FirstToEnd=np.vstack([FirstToEnd,N])\n",
    "print(\"FirstToEnd+N : \", FirstToEnd)\n",
    "#check array shape\n",
    "print(\"FirstToEnd.shpae : \", FirstToEnd.shape)\n",
    "print(\"y.shape : \", y.shape)\n",
    "\n",
    "head={'no':['num1', 'num2', 'num3', 'num4' ,'num5', 'num6']}\n",
    "save=pd.DataFrame(FirstToEnd)\n",
    "save.to_csv(\"LuckData.csv\", header=head, index=False)"
   ]
  },
  {
   "cell_type": "code",
   "execution_count": null,
   "id": "db39d1ca",
   "metadata": {},
   "outputs": [],
   "source": []
  }
 ],
 "metadata": {
  "kernelspec": {
   "display_name": "Python 3",
   "language": "python",
   "name": "python3"
  },
  "language_info": {
   "codemirror_mode": {
    "name": "ipython",
    "version": 3
   },
   "file_extension": ".py",
   "mimetype": "text/x-python",
   "name": "python",
   "nbconvert_exporter": "python",
   "pygments_lexer": "ipython3",
   "version": "3.8.8"
  }
 },
 "nbformat": 4,
 "nbformat_minor": 5
}
