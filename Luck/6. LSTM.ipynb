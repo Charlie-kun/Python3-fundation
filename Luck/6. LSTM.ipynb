{
 "cells": [
  {
   "cell_type": "markdown",
   "id": "d1da3877",
   "metadata": {},
   "source": [
    "## 5. SimpleRNN"
   ]
  },
  {
   "cell_type": "markdown",
   "id": "eaef7b2b",
   "metadata": {},
   "source": [
    "### 1. Data"
   ]
  },
  {
   "cell_type": "code",
   "execution_count": 1,
   "id": "44ae0e8d",
   "metadata": {},
   "outputs": [],
   "source": [
    "import numpy as np\n",
    "import pandas as pd\n",
    "\n",
    "import scipy\n",
    "from scipy import stats\n",
    "import matplotlib.pyplot as plt"
   ]
  },
  {
   "cell_type": "markdown",
   "id": "99c01ecf",
   "metadata": {},
   "source": [
    "### 1. Read csv file"
   ]
  },
  {
   "cell_type": "code",
   "execution_count": 2,
   "id": "1dfa0a81",
   "metadata": {},
   "outputs": [
    {
     "name": "stdout",
     "output_type": "stream",
     "text": [
      "     Num1  Num2  Num3  Num4  Num5  Num6\n",
      "958     1    14    15    24    40    41\n",
      "959     2    18    24    30    32    45\n",
      "960    11    20    29    31    33    42\n",
      "961     1    18    28    31    34    43\n",
      "962     6    12    19    23    34    42\n",
      "963     6    21    36    38    39    43\n",
      "964     2    13    25    28    29    36\n",
      "965     1    21    25    29    34    37\n",
      "966     1     6    13    37    38    40\n",
      "967     2     5    12    14    24    39\n",
      "Lotto.shape :  (968, 6)\n",
      "Lotto.index :  RangeIndex(start=0, stop=968, step=1)\n"
     ]
    }
   ],
   "source": [
    "Lotto =pd.read_csv('./lotto1to968.csv')\n",
    "#print(lotto)\n",
    "print(Lotto.iloc[-10:len(Lotto), :])\n",
    "print(\"Lotto.shape : \", Lotto.shape)\n",
    "print(\"Lotto.index : \", Lotto.index)"
   ]
  },
  {
   "cell_type": "markdown",
   "id": "7581dfea",
   "metadata": {},
   "source": [
    "### 2. Divide and Change csv to array"
   ]
  },
  {
   "cell_type": "code",
   "execution_count": 3,
   "id": "d0465f95",
   "metadata": {},
   "outputs": [
    {
     "name": "stdout",
     "output_type": "stream",
     "text": [
      "End of line number :  968\n",
      "x_train.shape :  (967, 6, 1)\n",
      "y_train.shape :  (967, 6)\n",
      "x_predict :  [[ 2  5 12 14 24 39]]\n"
     ]
    }
   ],
   "source": [
    "# Divide training, test, predict\n",
    "print(\"End of line number : \", len(Lotto))\n",
    "\n",
    "x_train=Lotto[0:len(Lotto)-1]\n",
    "y_train=Lotto[0:len(Lotto)-1]\n",
    "\n",
    "x_predict=Lotto[-1:]\n",
    "\n",
    "#Change array\n",
    "x_train=np.array(x_train)\n",
    "y_train=np.array(y_train)\n",
    "x_train=x_train.reshape(x_train.shape[0], x_train.shape[1],1)\n",
    "\n",
    "print(\"x_train.shape : \",x_train.shape)\n",
    "print(\"y_train.shape : \", y_train.shape)\n",
    "\n",
    "x_predict=np.array(x_predict)\n",
    "print(\"x_predict : \", x_predict)"
   ]
  },
  {
   "cell_type": "markdown",
   "id": "c436d192",
   "metadata": {},
   "source": [
    "#### 3. Model Configuration"
   ]
  },
  {
   "cell_type": "code",
   "execution_count": 4,
   "id": "ca593f20",
   "metadata": {},
   "outputs": [
    {
     "name": "stdout",
     "output_type": "stream",
     "text": [
      "Model: \"sequential\"\n",
      "_________________________________________________________________\n",
      "Layer (type)                 Output Shape              Param #   \n",
      "=================================================================\n",
      "lstm (LSTM)                  (None, 6)                 192       \n",
      "_________________________________________________________________\n",
      "dense (Dense)                (None, 45)                315       \n",
      "_________________________________________________________________\n",
      "dense_1 (Dense)              (None, 25)                1150      \n",
      "_________________________________________________________________\n",
      "dense_2 (Dense)              (None, 15)                390       \n",
      "_________________________________________________________________\n",
      "dense_3 (Dense)              (None, 6)                 96        \n",
      "=================================================================\n",
      "Total params: 2,143\n",
      "Trainable params: 2,143\n",
      "Non-trainable params: 0\n",
      "_________________________________________________________________\n"
     ]
    }
   ],
   "source": [
    "from keras.models import Sequential\n",
    "from keras.layers import Dense,SimpleRNN, LSTM\n",
    "\n",
    "model=Sequential()\n",
    "\n",
    "model.add(LSTM(6, input_shape=(6,1), activation='relu'))\n",
    "model.add(Dense(45))\n",
    "model.add(Dense(25))\n",
    "model.add(Dense(15))\n",
    "model.add(Dense(6))\n",
    "\n",
    "model.summary()"
   ]
  },
  {
   "cell_type": "markdown",
   "id": "ca78b0e1",
   "metadata": {},
   "source": [
    "#### 4. Training"
   ]
  },
  {
   "cell_type": "code",
   "execution_count": 5,
   "id": "f06f943a",
   "metadata": {},
   "outputs": [
    {
     "name": "stdout",
     "output_type": "stream",
     "text": [
      "Epoch 1/100\n",
      "967/967 [==============================] - 4s 3ms/step - loss: 125.5566 - mse: 125.5566\n",
      "Epoch 2/100\n",
      "967/967 [==============================] - 3s 3ms/step - loss: 12.6728 - mse: 12.6728\n",
      "Epoch 3/100\n",
      "967/967 [==============================] - 3s 3ms/step - loss: 11.0624 - mse: 11.0624\n",
      "Epoch 4/100\n",
      "967/967 [==============================] - 3s 3ms/step - loss: 10.2425 - mse: 10.2425\n",
      "Epoch 5/100\n",
      "967/967 [==============================] - 3s 3ms/step - loss: 9.4075 - mse: 9.4075\n",
      "Epoch 6/100\n",
      "967/967 [==============================] - 3s 3ms/step - loss: 8.7994 - mse: 8.7994\n",
      "Epoch 7/100\n",
      "967/967 [==============================] - 3s 3ms/step - loss: 8.1617 - mse: 8.1617\n",
      "Epoch 8/100\n",
      "967/967 [==============================] - 3s 3ms/step - loss: 7.5101 - mse: 7.5101\n",
      "Epoch 9/100\n",
      "967/967 [==============================] - 3s 3ms/step - loss: 7.2526 - mse: 7.2526\n",
      "Epoch 10/100\n",
      "967/967 [==============================] - 3s 3ms/step - loss: 7.0329 - mse: 7.0329\n",
      "Epoch 11/100\n",
      "967/967 [==============================] - 3s 3ms/step - loss: 6.6855 - mse: 6.6855\n",
      "Epoch 12/100\n",
      "967/967 [==============================] - 3s 3ms/step - loss: 6.2064 - mse: 6.2064\n",
      "Epoch 13/100\n",
      "967/967 [==============================] - 3s 3ms/step - loss: 5.9943 - mse: 5.9943\n",
      "Epoch 14/100\n",
      "967/967 [==============================] - 3s 3ms/step - loss: 5.9543 - mse: 5.9543\n",
      "Epoch 15/100\n",
      "967/967 [==============================] - 3s 3ms/step - loss: 6.2232 - mse: 6.2232\n",
      "Epoch 16/100\n",
      "967/967 [==============================] - 3s 3ms/step - loss: 5.8987 - mse: 5.8987\n",
      "Epoch 17/100\n",
      "967/967 [==============================] - 3s 3ms/step - loss: 5.6348 - mse: 5.6348\n",
      "Epoch 18/100\n",
      "967/967 [==============================] - 3s 3ms/step - loss: 5.4899 - mse: 5.4899\n",
      "Epoch 19/100\n",
      "967/967 [==============================] - 3s 3ms/step - loss: 5.4596 - mse: 5.4596\n",
      "Epoch 20/100\n",
      "967/967 [==============================] - 3s 3ms/step - loss: 5.1945 - mse: 5.1945\n",
      "Epoch 21/100\n",
      "967/967 [==============================] - 3s 3ms/step - loss: 5.1671 - mse: 5.1671\n",
      "Epoch 22/100\n",
      "967/967 [==============================] - 3s 3ms/step - loss: 4.8710 - mse: 4.8710\n",
      "Epoch 23/100\n",
      "967/967 [==============================] - 3s 3ms/step - loss: 4.8112 - mse: 4.8112\n",
      "Epoch 24/100\n",
      "967/967 [==============================] - 3s 3ms/step - loss: 4.6682 - mse: 4.6682\n",
      "Epoch 25/100\n",
      "967/967 [==============================] - 3s 3ms/step - loss: 4.5325 - mse: 4.5325\n",
      "Epoch 26/100\n",
      "967/967 [==============================] - 3s 3ms/step - loss: 4.5826 - mse: 4.5826\n",
      "Epoch 27/100\n",
      "967/967 [==============================] - 3s 3ms/step - loss: 4.2531 - mse: 4.2531\n",
      "Epoch 28/100\n",
      "967/967 [==============================] - 3s 3ms/step - loss: 4.4707 - mse: 4.4707\n",
      "Epoch 29/100\n",
      "967/967 [==============================] - 3s 3ms/step - loss: 4.4694 - mse: 4.4694\n",
      "Epoch 30/100\n",
      "967/967 [==============================] - 3s 3ms/step - loss: 3.8093 - mse: 3.8093\n",
      "Epoch 31/100\n",
      "967/967 [==============================] - 3s 3ms/step - loss: 3.7935 - mse: 3.7935\n",
      "Epoch 32/100\n",
      "967/967 [==============================] - 3s 3ms/step - loss: 3.7269 - mse: 3.7269\n",
      "Epoch 33/100\n",
      "967/967 [==============================] - 3s 3ms/step - loss: 3.9507 - mse: 3.9507\n",
      "Epoch 34/100\n",
      "967/967 [==============================] - 3s 3ms/step - loss: 4.0186 - mse: 4.0186\n",
      "Epoch 35/100\n",
      "967/967 [==============================] - 3s 3ms/step - loss: 3.7328 - mse: 3.7328\n",
      "Epoch 36/100\n",
      "967/967 [==============================] - 3s 3ms/step - loss: 3.8350 - mse: 3.8350\n",
      "Epoch 37/100\n",
      "967/967 [==============================] - 3s 3ms/step - loss: 3.5310 - mse: 3.5310\n",
      "Epoch 38/100\n",
      "967/967 [==============================] - 3s 3ms/step - loss: 3.6902 - mse: 3.6902\n",
      "Epoch 39/100\n",
      "967/967 [==============================] - 3s 3ms/step - loss: 3.6449 - mse: 3.6449\n",
      "Epoch 40/100\n",
      "967/967 [==============================] - 4s 5ms/step - loss: 3.6582 - mse: 3.6582\n",
      "Epoch 41/100\n",
      "967/967 [==============================] - 3s 3ms/step - loss: 3.6612 - mse: 3.6612\n",
      "Epoch 42/100\n",
      "967/967 [==============================] - 3s 3ms/step - loss: 3.4835 - mse: 3.4835\n",
      "Epoch 43/100\n",
      "967/967 [==============================] - 3s 3ms/step - loss: 3.5542 - mse: 3.5542\n",
      "Epoch 44/100\n",
      "967/967 [==============================] - 3s 3ms/step - loss: 3.7548 - mse: 3.7548\n",
      "Epoch 45/100\n",
      "967/967 [==============================] - 3s 3ms/step - loss: 3.5262 - mse: 3.5262\n",
      "Epoch 46/100\n",
      "967/967 [==============================] - 3s 3ms/step - loss: 3.5520 - mse: 3.5520\n",
      "Epoch 47/100\n",
      "967/967 [==============================] - 3s 3ms/step - loss: 3.4950 - mse: 3.4950\n",
      "Epoch 48/100\n",
      "967/967 [==============================] - 3s 3ms/step - loss: 3.7736 - mse: 3.7736\n",
      "Epoch 49/100\n",
      "967/967 [==============================] - 3s 3ms/step - loss: 3.7385 - mse: 3.7385\n",
      "Epoch 50/100\n",
      "967/967 [==============================] - 3s 3ms/step - loss: 3.4211 - mse: 3.4211\n",
      "Epoch 51/100\n",
      "967/967 [==============================] - 3s 3ms/step - loss: 3.4293 - mse: 3.4293\n",
      "Epoch 52/100\n",
      "967/967 [==============================] - 3s 3ms/step - loss: 3.4202 - mse: 3.4202\n",
      "Epoch 53/100\n",
      "967/967 [==============================] - 3s 3ms/step - loss: 3.6650 - mse: 3.6650\n",
      "Epoch 54/100\n",
      "967/967 [==============================] - 3s 3ms/step - loss: 3.4699 - mse: 3.4699\n",
      "Epoch 55/100\n",
      "967/967 [==============================] - 3s 3ms/step - loss: 3.7096 - mse: 3.7096\n",
      "Epoch 56/100\n",
      "967/967 [==============================] - 3s 3ms/step - loss: 3.4397 - mse: 3.4397\n",
      "Epoch 57/100\n",
      "967/967 [==============================] - 3s 3ms/step - loss: 3.5652 - mse: 3.5652\n",
      "Epoch 58/100\n",
      "967/967 [==============================] - 3s 3ms/step - loss: 3.4235 - mse: 3.4235\n",
      "Epoch 59/100\n",
      "967/967 [==============================] - 3s 3ms/step - loss: 3.3393 - mse: 3.3393\n",
      "Epoch 60/100\n",
      "967/967 [==============================] - 3s 3ms/step - loss: 3.4851 - mse: 3.4851\n",
      "Epoch 61/100\n",
      "967/967 [==============================] - 3s 3ms/step - loss: 3.5935 - mse: 3.5935\n",
      "Epoch 62/100\n",
      "967/967 [==============================] - 3s 3ms/step - loss: 3.4938 - mse: 3.4938\n",
      "Epoch 63/100\n",
      "967/967 [==============================] - 3s 3ms/step - loss: 3.5081 - mse: 3.5081\n",
      "Epoch 64/100\n",
      "967/967 [==============================] - 3s 3ms/step - loss: 3.2357 - mse: 3.2357\n",
      "Epoch 65/100\n",
      "967/967 [==============================] - 3s 3ms/step - loss: 3.5942 - mse: 3.5942\n",
      "Epoch 66/100\n",
      "967/967 [==============================] - 3s 3ms/step - loss: 3.4715 - mse: 3.4715\n",
      "Epoch 67/100\n",
      "967/967 [==============================] - 3s 3ms/step - loss: 3.3547 - mse: 3.3547\n",
      "Epoch 68/100\n",
      "967/967 [==============================] - 3s 3ms/step - loss: 3.3450 - mse: 3.3450\n",
      "Epoch 69/100\n",
      "967/967 [==============================] - 3s 3ms/step - loss: 3.4405 - mse: 3.4405\n",
      "Epoch 70/100\n",
      "967/967 [==============================] - 3s 3ms/step - loss: 3.4497 - mse: 3.4497\n",
      "Epoch 71/100\n",
      "967/967 [==============================] - 3s 3ms/step - loss: 3.4992 - mse: 3.4992\n",
      "Epoch 72/100\n",
      "967/967 [==============================] - 3s 3ms/step - loss: 3.5887 - mse: 3.5887\n",
      "Epoch 73/100\n",
      "967/967 [==============================] - 3s 3ms/step - loss: 3.4006 - mse: 3.4006\n",
      "Epoch 74/100\n",
      "967/967 [==============================] - 3s 3ms/step - loss: 3.6987 - mse: 3.6987\n",
      "Epoch 75/100\n",
      "967/967 [==============================] - 3s 3ms/step - loss: 3.3479 - mse: 3.3479\n",
      "Epoch 76/100\n",
      "967/967 [==============================] - 3s 3ms/step - loss: 3.4525 - mse: 3.4525\n",
      "Epoch 77/100\n",
      "967/967 [==============================] - 3s 3ms/step - loss: 3.3578 - mse: 3.3578\n",
      "Epoch 78/100\n",
      "967/967 [==============================] - 3s 3ms/step - loss: 3.2987 - mse: 3.2987\n",
      "Epoch 79/100\n",
      "967/967 [==============================] - 3s 3ms/step - loss: 3.1602 - mse: 3.1602\n",
      "Epoch 80/100\n",
      "967/967 [==============================] - 3s 3ms/step - loss: 3.2186 - mse: 3.2186\n",
      "Epoch 81/100\n",
      "967/967 [==============================] - 3s 3ms/step - loss: 3.3108 - mse: 3.3108\n",
      "Epoch 82/100\n",
      "967/967 [==============================] - 3s 3ms/step - loss: 3.5633 - mse: 3.5633\n",
      "Epoch 83/100\n",
      "967/967 [==============================] - 3s 3ms/step - loss: 3.3673 - mse: 3.3673\n",
      "Epoch 84/100\n",
      "967/967 [==============================] - 3s 3ms/step - loss: 3.3191 - mse: 3.3191\n",
      "Epoch 85/100\n",
      "967/967 [==============================] - 3s 3ms/step - loss: 3.3954 - mse: 3.3954\n",
      "Epoch 86/100\n",
      "967/967 [==============================] - 3s 3ms/step - loss: 3.5992 - mse: 3.5992\n",
      "Epoch 87/100\n",
      "967/967 [==============================] - 3s 3ms/step - loss: 3.1408 - mse: 3.1408\n",
      "Epoch 88/100\n",
      "967/967 [==============================] - 3s 3ms/step - loss: 3.2327 - mse: 3.2327\n",
      "Epoch 89/100\n",
      "967/967 [==============================] - 3s 3ms/step - loss: 3.1981 - mse: 3.1981\n",
      "Epoch 90/100\n",
      "967/967 [==============================] - 3s 3ms/step - loss: 3.2709 - mse: 3.2709\n",
      "Epoch 91/100\n",
      "967/967 [==============================] - 3s 3ms/step - loss: 3.2745 - mse: 3.2745\n",
      "Epoch 92/100\n",
      "967/967 [==============================] - 3s 3ms/step - loss: 3.3298 - mse: 3.3298\n",
      "Epoch 93/100\n",
      "967/967 [==============================] - 3s 3ms/step - loss: 3.1473 - mse: 3.1473\n",
      "Epoch 94/100\n",
      "967/967 [==============================] - 3s 3ms/step - loss: 3.2033 - mse: 3.2033\n",
      "Epoch 95/100\n",
      "967/967 [==============================] - 3s 3ms/step - loss: 3.3969 - mse: 3.3969\n",
      "Epoch 96/100\n",
      "967/967 [==============================] - 3s 3ms/step - loss: 3.2486 - mse: 3.2486\n",
      "Epoch 97/100\n",
      "967/967 [==============================] - 3s 3ms/step - loss: 3.2478 - mse: 3.2478\n",
      "Epoch 98/100\n",
      "967/967 [==============================] - 3s 3ms/step - loss: 3.2063 - mse: 3.2063\n",
      "Epoch 99/100\n",
      "967/967 [==============================] - 3s 3ms/step - loss: 3.1901 - mse: 3.1901\n",
      "Epoch 100/100\n",
      "967/967 [==============================] - 3s 3ms/step - loss: 3.3060 - mse: 3.3060\n"
     ]
    },
    {
     "data": {
      "text/plain": [
       "<tensorflow.python.keras.callbacks.History at 0x7f7d980e2e80>"
      ]
     },
     "execution_count": 5,
     "metadata": {},
     "output_type": "execute_result"
    }
   ],
   "source": [
    "model.compile(loss='mse', optimizer='adam', metrics=['mse'])\n",
    "#model.fit(FirstTo961, y, epochs=100, batch_size=1)\n",
    "model.fit(x_train, y_train, epochs=100, batch_size=1)"
   ]
  },
  {
   "cell_type": "markdown",
   "id": "62f2a1d2",
   "metadata": {},
   "source": [
    "#### 5. Evaluation, Predict"
   ]
  },
  {
   "cell_type": "code",
   "execution_count": 6,
   "id": "7f064cef",
   "metadata": {},
   "outputs": [
    {
     "name": "stdout",
     "output_type": "stream",
     "text": [
      "predict : \n",
      " [[ 1.0365918  5.900625  10.822726  14.72169   23.367352  38.890827 ]]\n"
     ]
    }
   ],
   "source": [
    "x_predict=x_predict.reshape(x_predict.shape[0], x_predict.shape[1],1)\n",
    "y_predict=model.predict(x_predict)\n",
    "print(\"predict : \\n\", y_predict)"
   ]
  },
  {
   "cell_type": "code",
   "execution_count": null,
   "id": "08923d13",
   "metadata": {},
   "outputs": [],
   "source": []
  }
 ],
 "metadata": {
  "kernelspec": {
   "display_name": "Python 3",
   "language": "python",
   "name": "python3"
  },
  "language_info": {
   "codemirror_mode": {
    "name": "ipython",
    "version": 3
   },
   "file_extension": ".py",
   "mimetype": "text/x-python",
   "name": "python",
   "nbconvert_exporter": "python",
   "pygments_lexer": "ipython3",
   "version": "3.8.8"
  }
 },
 "nbformat": 4,
 "nbformat_minor": 5
}
