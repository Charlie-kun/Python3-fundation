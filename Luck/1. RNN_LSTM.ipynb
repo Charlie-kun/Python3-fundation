{
 "cells": [
  {
   "cell_type": "markdown",
   "id": "2c72376c",
   "metadata": {},
   "source": [
    "### 1. Lotto Project"
   ]
  },
  {
   "cell_type": "code",
   "execution_count": 1,
   "id": "27600358",
   "metadata": {},
   "outputs": [],
   "source": [
    "import numpy as np\n",
    "import pandas as pd\n",
    "\n",
    "import scipy\n",
    "from scipy import stats\n",
    "import matplotlib.pyplot as plt"
   ]
  },
  {
   "cell_type": "markdown",
   "id": "5e8bffd0",
   "metadata": {},
   "source": [
    "#### 1. Read csv file"
   ]
  },
  {
   "cell_type": "code",
   "execution_count": 2,
   "id": "7ba0691e",
   "metadata": {},
   "outputs": [
    {
     "name": "stdout",
     "output_type": "stream",
     "text": [
      "     Num1  Num2  Num3  Num4  Num5  Num6\n",
      "0      10    23    29    33    37    40\n",
      "1       9    13    21    25    32    42\n",
      "2      11    16    19    21    27    31\n",
      "3      14    27    30    31    40    42\n",
      "4      16    24    29    40    41    42\n",
      "..    ...   ...   ...   ...   ...   ...\n",
      "956     4    15    24    35    36    40\n",
      "957     2     9    10    16    35    37\n",
      "958     1    14    15    24    40    41\n",
      "959     2    18    24    30    32    45\n",
      "960    11    20    29    31    33    42\n",
      "\n",
      "[961 rows x 6 columns]\n"
     ]
    }
   ],
   "source": [
    "lotto =pd.read_csv('./lotto1to961.csv')\n",
    "print(lotto)\n",
    "y=np.array([11,20,29,31,33,42])"
   ]
  },
  {
   "cell_type": "markdown",
   "id": "fd1aff54",
   "metadata": {},
   "source": [
    "#### 2. Change csv to array"
   ]
  },
  {
   "cell_type": "code",
   "execution_count": 3,
   "id": "1f7b1735",
   "metadata": {},
   "outputs": [
    {
     "name": "stdout",
     "output_type": "stream",
     "text": [
      "FirstTo961 :  [[10 23 29 33 37 40]\n",
      " [ 9 13 21 25 32 42]\n",
      " [11 16 19 21 27 31]\n",
      " ...\n",
      " [ 1 14 15 24 40 41]\n",
      " [ 2 18 24 30 32 45]\n",
      " [11 20 29 31 33 42]]\n",
      "FirstTo961 :  [[10 23 29 33 37 40]\n",
      " [ 9 13 21 25 32 42]\n",
      " [11 16 19 21 27 31]\n",
      " ...\n",
      " [ 2  9 10 16 35 37]\n",
      " [ 1 14 15 24 40 41]\n",
      " [ 2 18 24 30 32 45]]\n"
     ]
    }
   ],
   "source": [
    "# Delete last Winning number\n",
    "FirstTo961=np.array(lotto)\n",
    "print(\"FirstTo961 : \", FirstTo961)\n",
    "FirstTo961=np.delete(FirstTo961,960,axis=0)\n",
    "print(\"FirstTo961 : \", FirstTo961)"
   ]
  },
  {
   "cell_type": "code",
   "execution_count": 4,
   "id": "0da4cbb7",
   "metadata": {},
   "outputs": [
    {
     "name": "stdout",
     "output_type": "stream",
     "text": [
      "FirstTo961.shape :  (6, 960, 1)\n",
      "y.shape (6,)\n"
     ]
    }
   ],
   "source": [
    "# Reshpae array\n",
    "FirstTo961=FirstTo961.reshape(FirstTo961.shape[1], FirstTo961.shape[0], 1)\n",
    "print(\"FirstTo961.shape : \", FirstTo961.shape)\n",
    "print(\"y.shape\", y.shape)"
   ]
  },
  {
   "cell_type": "markdown",
   "id": "72de58c5",
   "metadata": {},
   "source": [
    "#### 3. Configuration Model"
   ]
  },
  {
   "cell_type": "code",
   "execution_count": 5,
   "id": "92328345",
   "metadata": {},
   "outputs": [
    {
     "name": "stdout",
     "output_type": "stream",
     "text": [
      "Model: \"sequential\"\n",
      "_________________________________________________________________\n",
      "Layer (type)                 Output Shape              Param #   \n",
      "=================================================================\n",
      "lstm (LSTM)                  (None, 7)                 252       \n",
      "_________________________________________________________________\n",
      "dense (Dense)                (None, 4)                 32        \n",
      "_________________________________________________________________\n",
      "dense_1 (Dense)              (None, 1)                 5         \n",
      "=================================================================\n",
      "Total params: 289\n",
      "Trainable params: 289\n",
      "Non-trainable params: 0\n",
      "_________________________________________________________________\n"
     ]
    }
   ],
   "source": [
    "from keras.models import Sequential\n",
    "from keras.layers import Dense, LSTM\n",
    "\n",
    "model=Sequential()\n",
    "model.add(LSTM(7, input_shape=(960,1), activation='relu'))\n",
    "model.add(Dense(4))\n",
    "model.add(Dense(1))\n",
    "\n",
    "model.summary()"
   ]
  },
  {
   "cell_type": "markdown",
   "id": "660db00f",
   "metadata": {},
   "source": [
    "#### 4. Training"
   ]
  },
  {
   "cell_type": "code",
   "execution_count": 6,
   "id": "b89c1574",
   "metadata": {},
   "outputs": [
    {
     "name": "stdout",
     "output_type": "stream",
     "text": [
      "Epoch 1/100\n",
      "6/6 [==============================] - 2s 248ms/step - loss: nan - mse: nan   \n",
      "Epoch 2/100\n",
      "6/6 [==============================] - 1s 235ms/step - loss: nan - mse: nan\n",
      "Epoch 3/100\n",
      "6/6 [==============================] - 1s 241ms/step - loss: nan - mse: nan\n",
      "Epoch 4/100\n",
      "6/6 [==============================] - 1s 236ms/step - loss: nan - mse: nan\n",
      "Epoch 5/100\n",
      "6/6 [==============================] - 1s 205ms/step - loss: nan - mse: nan\n",
      "Epoch 6/100\n",
      "6/6 [==============================] - 1s 183ms/step - loss: nan - mse: nan\n",
      "Epoch 7/100\n",
      "6/6 [==============================] - 1s 156ms/step - loss: nan - mse: nan\n",
      "Epoch 8/100\n",
      "6/6 [==============================] - 1s 159ms/step - loss: nan - mse: nan\n",
      "Epoch 9/100\n",
      "6/6 [==============================] - 1s 154ms/step - loss: nan - mse: nan\n",
      "Epoch 10/100\n",
      "6/6 [==============================] - 1s 162ms/step - loss: nan - mse: nan\n",
      "Epoch 11/100\n",
      "6/6 [==============================] - 1s 204ms/step - loss: nan - mse: nan\n",
      "Epoch 12/100\n",
      "6/6 [==============================] - 1s 206ms/step - loss: nan - mse: nan\n",
      "Epoch 13/100\n",
      "6/6 [==============================] - 1s 211ms/step - loss: nan - mse: nan\n",
      "Epoch 14/100\n",
      "6/6 [==============================] - 1s 207ms/step - loss: nan - mse: nan\n",
      "Epoch 15/100\n",
      "6/6 [==============================] - 1s 215ms/step - loss: nan - mse: nan\n",
      "Epoch 16/100\n",
      "6/6 [==============================] - 1s 210ms/step - loss: nan - mse: nan\n",
      "Epoch 17/100\n",
      "6/6 [==============================] - 1s 202ms/step - loss: nan - mse: nan\n",
      "Epoch 18/100\n",
      "6/6 [==============================] - 1s 213ms/step - loss: nan - mse: nan\n",
      "Epoch 19/100\n",
      "6/6 [==============================] - 1s 210ms/step - loss: nan - mse: nan\n",
      "Epoch 20/100\n",
      "6/6 [==============================] - 1s 212ms/step - loss: nan - mse: nan\n",
      "Epoch 21/100\n",
      "6/6 [==============================] - 1s 217ms/step - loss: nan - mse: nan\n",
      "Epoch 22/100\n",
      "6/6 [==============================] - 1s 212ms/step - loss: nan - mse: nan\n",
      "Epoch 23/100\n",
      "6/6 [==============================] - 1s 224ms/step - loss: nan - mse: nan\n",
      "Epoch 24/100\n",
      "6/6 [==============================] - 1s 232ms/step - loss: nan - mse: nan\n",
      "Epoch 25/100\n",
      "6/6 [==============================] - 1s 222ms/step - loss: nan - mse: nan\n",
      "Epoch 26/100\n",
      "6/6 [==============================] - 1s 220ms/step - loss: nan - mse: nan\n",
      "Epoch 27/100\n",
      "6/6 [==============================] - 1s 216ms/step - loss: nan - mse: nan\n",
      "Epoch 28/100\n",
      "6/6 [==============================] - 1s 218ms/step - loss: nan - mse: nan\n",
      "Epoch 29/100\n",
      "6/6 [==============================] - 1s 217ms/step - loss: nan - mse: nan\n",
      "Epoch 30/100\n",
      "6/6 [==============================] - 1s 214ms/step - loss: nan - mse: nan\n",
      "Epoch 31/100\n",
      "6/6 [==============================] - 1s 215ms/step - loss: nan - mse: nan\n",
      "Epoch 32/100\n",
      "6/6 [==============================] - 1s 212ms/step - loss: nan - mse: nan\n",
      "Epoch 33/100\n",
      "6/6 [==============================] - 1s 220ms/step - loss: nan - mse: nan\n",
      "Epoch 34/100\n",
      "6/6 [==============================] - 1s 210ms/step - loss: nan - mse: nan\n",
      "Epoch 35/100\n",
      "6/6 [==============================] - 1s 216ms/step - loss: nan - mse: nan\n",
      "Epoch 36/100\n",
      "6/6 [==============================] - 1s 234ms/step - loss: nan - mse: nan\n",
      "Epoch 37/100\n",
      "6/6 [==============================] - 1s 217ms/step - loss: nan - mse: nan\n",
      "Epoch 38/100\n",
      "6/6 [==============================] - 1s 242ms/step - loss: nan - mse: nan\n",
      "Epoch 39/100\n",
      "6/6 [==============================] - 1s 216ms/step - loss: nan - mse: nan\n",
      "Epoch 40/100\n",
      "6/6 [==============================] - 1s 221ms/step - loss: nan - mse: nan\n",
      "Epoch 41/100\n",
      "6/6 [==============================] - 1s 233ms/step - loss: nan - mse: nan\n",
      "Epoch 42/100\n",
      "6/6 [==============================] - 2s 237ms/step - loss: nan - mse: nan\n",
      "Epoch 43/100\n",
      "6/6 [==============================] - 1s 228ms/step - loss: nan - mse: nan\n",
      "Epoch 44/100\n",
      "6/6 [==============================] - 2s 262ms/step - loss: nan - mse: nan\n",
      "Epoch 45/100\n",
      "6/6 [==============================] - 2s 253ms/step - loss: nan - mse: nan\n",
      "Epoch 46/100\n",
      "6/6 [==============================] - 1s 235ms/step - loss: nan - mse: nan\n",
      "Epoch 47/100\n",
      "6/6 [==============================] - 2s 251ms/step - loss: nan - mse: nan\n",
      "Epoch 48/100\n",
      "6/6 [==============================] - 1s 224ms/step - loss: nan - mse: nan\n",
      "Epoch 49/100\n",
      "6/6 [==============================] - 1s 216ms/step - loss: nan - mse: nan\n",
      "Epoch 50/100\n",
      "6/6 [==============================] - 1s 220ms/step - loss: nan - mse: nan\n",
      "Epoch 51/100\n",
      "6/6 [==============================] - 1s 227ms/step - loss: nan - mse: nan\n",
      "Epoch 52/100\n",
      "6/6 [==============================] - 1s 233ms/step - loss: nan - mse: nan\n",
      "Epoch 53/100\n",
      "6/6 [==============================] - 1s 208ms/step - loss: nan - mse: nan\n",
      "Epoch 54/100\n",
      "6/6 [==============================] - 1s 225ms/step - loss: nan - mse: nan\n",
      "Epoch 55/100\n",
      "6/6 [==============================] - 2s 268ms/step - loss: nan - mse: nan\n",
      "Epoch 56/100\n",
      "6/6 [==============================] - 1s 233ms/step - loss: nan - mse: nan\n",
      "Epoch 57/100\n",
      "6/6 [==============================] - 1s 228ms/step - loss: nan - mse: nan\n",
      "Epoch 58/100\n",
      "6/6 [==============================] - 1s 214ms/step - loss: nan - mse: nan\n",
      "Epoch 59/100\n",
      "6/6 [==============================] - 1s 218ms/step - loss: nan - mse: nan\n",
      "Epoch 60/100\n",
      "6/6 [==============================] - 1s 234ms/step - loss: nan - mse: nan\n",
      "Epoch 61/100\n",
      "6/6 [==============================] - 1s 217ms/step - loss: nan - mse: nan\n",
      "Epoch 62/100\n",
      "6/6 [==============================] - 1s 215ms/step - loss: nan - mse: nan\n",
      "Epoch 63/100\n",
      "6/6 [==============================] - 1s 228ms/step - loss: nan - mse: nan\n",
      "Epoch 64/100\n",
      "6/6 [==============================] - 1s 221ms/step - loss: nan - mse: nan\n",
      "Epoch 65/100\n",
      "6/6 [==============================] - 1s 212ms/step - loss: nan - mse: nan\n",
      "Epoch 66/100\n",
      "6/6 [==============================] - 1s 224ms/step - loss: nan - mse: nan\n",
      "Epoch 67/100\n",
      "6/6 [==============================] - 1s 231ms/step - loss: nan - mse: nan\n",
      "Epoch 68/100\n",
      "6/6 [==============================] - 1s 225ms/step - loss: nan - mse: nan\n",
      "Epoch 69/100\n",
      "6/6 [==============================] - 1s 223ms/step - loss: nan - mse: nan\n",
      "Epoch 70/100\n",
      "6/6 [==============================] - 1s 217ms/step - loss: nan - mse: nan\n",
      "Epoch 71/100\n",
      "6/6 [==============================] - 1s 223ms/step - loss: nan - mse: nan\n",
      "Epoch 72/100\n",
      "6/6 [==============================] - 1s 244ms/step - loss: nan - mse: nan\n",
      "Epoch 73/100\n",
      "6/6 [==============================] - 1s 234ms/step - loss: nan - mse: nan\n",
      "Epoch 74/100\n",
      "6/6 [==============================] - 1s 217ms/step - loss: nan - mse: nan\n",
      "Epoch 75/100\n",
      "6/6 [==============================] - 1s 230ms/step - loss: nan - mse: nan\n",
      "Epoch 76/100\n",
      "6/6 [==============================] - 1s 222ms/step - loss: nan - mse: nan\n",
      "Epoch 77/100\n",
      "6/6 [==============================] - 1s 213ms/step - loss: nan - mse: nan\n",
      "Epoch 78/100\n",
      "6/6 [==============================] - 1s 249ms/step - loss: nan - mse: nan\n",
      "Epoch 79/100\n",
      "6/6 [==============================] - 1s 237ms/step - loss: nan - mse: nan\n",
      "Epoch 80/100\n",
      "6/6 [==============================] - 1s 219ms/step - loss: nan - mse: nan\n",
      "Epoch 81/100\n",
      "6/6 [==============================] - 1s 237ms/step - loss: nan - mse: nan\n",
      "Epoch 82/100\n",
      "6/6 [==============================] - 1s 238ms/step - loss: nan - mse: nan\n",
      "Epoch 83/100\n",
      "6/6 [==============================] - 1s 216ms/step - loss: nan - mse: nan\n",
      "Epoch 84/100\n",
      "6/6 [==============================] - 1s 235ms/step - loss: nan - mse: nan\n",
      "Epoch 85/100\n",
      "6/6 [==============================] - 2s 281ms/step - loss: nan - mse: nan\n",
      "Epoch 86/100\n",
      "6/6 [==============================] - 2s 251ms/step - loss: nan - mse: nan\n",
      "Epoch 87/100\n",
      "6/6 [==============================] - 1s 248ms/step - loss: nan - mse: nan\n",
      "Epoch 88/100\n",
      "6/6 [==============================] - 1s 245ms/step - loss: nan - mse: nan\n",
      "Epoch 89/100\n",
      "6/6 [==============================] - 1s 229ms/step - loss: nan - mse: nan\n",
      "Epoch 90/100\n",
      "6/6 [==============================] - 1s 226ms/step - loss: nan - mse: nan\n",
      "Epoch 91/100\n",
      "6/6 [==============================] - 1s 241ms/step - loss: nan - mse: nan\n",
      "Epoch 92/100\n",
      "6/6 [==============================] - 1s 217ms/step - loss: nan - mse: nan\n",
      "Epoch 93/100\n",
      "6/6 [==============================] - 1s 224ms/step - loss: nan - mse: nan\n",
      "Epoch 94/100\n",
      "6/6 [==============================] - 1s 222ms/step - loss: nan - mse: nan\n",
      "Epoch 95/100\n",
      "6/6 [==============================] - 1s 211ms/step - loss: nan - mse: nan\n",
      "Epoch 96/100\n",
      "6/6 [==============================] - 1s 227ms/step - loss: nan - mse: nan\n",
      "Epoch 97/100\n",
      "6/6 [==============================] - 1s 217ms/step - loss: nan - mse: nan\n",
      "Epoch 98/100\n",
      "6/6 [==============================] - 2s 276ms/step - loss: nan - mse: nan\n",
      "Epoch 99/100\n",
      "6/6 [==============================] - 1s 234ms/step - loss: nan - mse: nan\n",
      "Epoch 100/100\n",
      "6/6 [==============================] - 1s 229ms/step - loss: nan - mse: nan\n"
     ]
    },
    {
     "data": {
      "text/plain": [
       "<tensorflow.python.keras.callbacks.History at 0x7fb3700aac70>"
      ]
     },
     "execution_count": 6,
     "metadata": {},
     "output_type": "execute_result"
    }
   ],
   "source": [
    "model.compile(loss='mse', optimizer='adam', metrics=['mse'])\n",
    "model.fit(FirstTo961, y, epochs=100, batch_size=1)"
   ]
  },
  {
   "cell_type": "markdown",
   "id": "914ae87c",
   "metadata": {},
   "source": [
    "#### 5. Evaluation, Predict"
   ]
  },
  {
   "cell_type": "code",
   "execution_count": 7,
   "id": "eb952b4b",
   "metadata": {},
   "outputs": [
    {
     "name": "stdout",
     "output_type": "stream",
     "text": [
      "lotto_predict.shape :  (1, 6, 1)\n",
      "WARNING:tensorflow:Model was constructed with shape (None, 960, 1) for input KerasTensor(type_spec=TensorSpec(shape=(None, 960, 1), dtype=tf.float32, name='lstm_input'), name='lstm_input', description=\"created by layer 'lstm_input'\"), but it was called on an input with incompatible shape (None, 6, 1).\n",
      "Predict value :  [[nan]]\n"
     ]
    }
   ],
   "source": [
    "lotto_predict=np.array([11,20,29,31,33,42])\n",
    "lotto_predict=lotto_predict.reshape(1, 6, 1)\n",
    "print(\"lotto_predict.shape : \", lotto_predict.shape)\n",
    "y_predict=model.predict(lotto_predict)\n",
    "print(\"Predict value : \", y_predict)"
   ]
  },
  {
   "cell_type": "code",
   "execution_count": null,
   "id": "fc95f915",
   "metadata": {},
   "outputs": [],
   "source": []
  }
 ],
 "metadata": {
  "kernelspec": {
   "display_name": "Python 3",
   "language": "python",
   "name": "python3"
  },
  "language_info": {
   "codemirror_mode": {
    "name": "ipython",
    "version": 3
   },
   "file_extension": ".py",
   "mimetype": "text/x-python",
   "name": "python",
   "nbconvert_exporter": "python",
   "pygments_lexer": "ipython3",
   "version": "3.8.8"
  }
 },
 "nbformat": 4,
 "nbformat_minor": 5
}
