{
 "cells": [
  {
   "cell_type": "markdown",
   "id": "83e3b758",
   "metadata": {},
   "source": [
    "### 15.3 TimeSeriesPredict"
   ]
  },
  {
   "cell_type": "code",
   "execution_count": 1,
   "id": "9c6af90c",
   "metadata": {},
   "outputs": [],
   "source": [
    "import keras\n",
    "import numpy as np\n",
    "\n",
    "def generate_time_series(batch_size,n_steps):\n",
    "    freq1,freq2,offsets1,offsets2=np.random.rand(4,batch_size,1)\n",
    "    time=np.linspace(0,1,n_steps)\n",
    "    series=0.5*np.sin((time-offsets1)*(freq1*10+10))   #Sine curve 1\n",
    "    series+=0.2*np.sin((time-offsets2)*(freq2*20+20))   #Sine curve 2\n",
    "    series+=0.1*np.sin(np.random.rand(batch_size,n_steps)-0.5)   #Not Sine curve\n",
    "    return series[..., np.newaxis].astype(np.float32)"
   ]
  },
  {
   "cell_type": "code",
   "execution_count": 2,
   "id": "47af0e7a",
   "metadata": {},
   "outputs": [],
   "source": [
    "n_steps=50\n",
    "series=generate_time_series(10000,n_steps+1)\n",
    "X_train, y_train=series[:7000, :n_steps], series[:7000, -1]\n",
    "X_valid, y_valid=series[7000:9000, :n_steps], series[7000:9000,-1]\n",
    "X_test,y_test=series[9000:, :n_steps], series[9000:,-1]"
   ]
  },
  {
   "cell_type": "code",
   "execution_count": 3,
   "id": "d15baaef",
   "metadata": {},
   "outputs": [
    {
     "data": {
      "text/plain": [
       "0.021468949"
      ]
     },
     "execution_count": 3,
     "metadata": {},
     "output_type": "execute_result"
    }
   ],
   "source": [
    "y_pred=X_valid[:,-1]\n",
    "np.mean(keras.losses.mean_squared_error(y_valid,y_pred))"
   ]
  },
  {
   "cell_type": "code",
   "execution_count": 4,
   "id": "58f491d9",
   "metadata": {},
   "outputs": [],
   "source": [
    "'''model = keras.models.Sequential([keras.layers.SimpleRNN(1,input_shape=[None,1])])\n",
    "model.compile(optimizer='adam', loss='mse', metrics=['mse'])'''\n",
    "# Multiple Layers\n",
    "model=keras.models.Sequential([keras.layers.SimpleRNN(20, return_sequences=True, input_shape=[None, 1]), \n",
    "                              keras.layers.SimpleRNN(20,return_sequences=True),\n",
    "                              keras.layers.SimpleRNN(1)])\n",
    "model.compile(optimizer='adam', loss='mse', metrics=['mse'])"
   ]
  },
  {
   "cell_type": "code",
   "execution_count": 5,
   "id": "0f718de0",
   "metadata": {},
   "outputs": [
    {
     "data": {
      "text/plain": [
       "<tensorflow.python.keras.callbacks.History at 0x7f418c724070>"
      ]
     },
     "execution_count": 5,
     "metadata": {},
     "output_type": "execute_result"
    }
   ],
   "source": [
    "model.fit(X_train, y_train, validation_data=(X_valid, y_valid),\n",
    "                        epochs=1, batch_size=1, verbose=0)"
   ]
  },
  {
   "cell_type": "code",
   "execution_count": 6,
   "id": "970d3f22",
   "metadata": {},
   "outputs": [
    {
     "name": "stdout",
     "output_type": "stream",
     "text": [
      "7000/7000 [==============================] - 54s 8ms/step - loss: 0.0047 - mse: 0.0047\n",
      "mse :  0.004680057521909475\n"
     ]
    }
   ],
   "source": [
    "loss, mse=model.evaluate(X_train, y_train,batch_size=1)\n",
    "print(\"mse : \", mse)"
   ]
  }
 ],
 "metadata": {
  "kernelspec": {
   "display_name": "Python 3",
   "language": "python",
   "name": "python3"
  },
  "language_info": {
   "codemirror_mode": {
    "name": "ipython",
    "version": 3
   },
   "file_extension": ".py",
   "mimetype": "text/x-python",
   "name": "python",
   "nbconvert_exporter": "python",
   "pygments_lexer": "ipython3",
   "version": "3.8.8"
  }
 },
 "nbformat": 4,
 "nbformat_minor": 5
}
