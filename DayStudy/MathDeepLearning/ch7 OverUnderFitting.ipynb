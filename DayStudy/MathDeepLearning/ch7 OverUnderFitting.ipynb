{
 "cells": [
  {
   "cell_type": "markdown",
   "id": "35a06ac2",
   "metadata": {},
   "source": [
    "### 7. Over fitting and Under fitting"
   ]
  },
  {
   "cell_type": "code",
   "execution_count": 1,
   "id": "a0106189",
   "metadata": {},
   "outputs": [
    {
     "data": {
      "text/plain": [
       "29.515137790197596"
      ]
     },
     "execution_count": 1,
     "metadata": {},
     "output_type": "execute_result"
    }
   ],
   "source": [
    "# Before the use Pipeline\n",
    "from sklearn import datasets\n",
    "from sklearn.pipeline import Pipeline\n",
    "from sklearn.preprocessing import StandardScaler\n",
    "from sklearn.linear_model import LinearRegression\n",
    "from sklearn.model_selection import train_test_split\n",
    "from sklearn.metrics import mean_squared_error\n",
    "\n",
    "raw_boston=datasets.load_boston()\n",
    "\n",
    "X=raw_boston.data\n",
    "y=raw_boston.target\n",
    "\n",
    "#training/test data divide\n",
    "X_tn, X_te, y_tn, y_te=train_test_split(X,y,random_state=7)\n",
    "\n",
    "# Standard Scaling\n",
    "std_scale=StandardScaler()\n",
    "X_tn_std=std_scale.fit_transform(X_tn)\n",
    "x_te_std=std_scale.transform(X_te)\n",
    "\n",
    "# Training\n",
    "clf_linear=LinearRegression()\n",
    "clf_linear.fit(X_tn_std,y_tn)\n",
    "\n",
    "#predict\n",
    "pred_linear=clf_linear.predict(x_te_std)\n",
    "\n",
    "#Evaluation\n",
    "mean_squared_error(y_te,pred_linear)"
   ]
  },
  {
   "cell_type": "code",
   "execution_count": 2,
   "id": "64a275db",
   "metadata": {},
   "outputs": [
    {
     "data": {
      "text/plain": [
       "29.515137790197596"
      ]
     },
     "execution_count": 2,
     "metadata": {},
     "output_type": "execute_result"
    }
   ],
   "source": [
    "#Use pipline\n",
    "X_tn, X_te, y_tn, y_te=train_test_split(X,y,random_state=7)\n",
    "\n",
    "#from sklearn.pipeline import Pipeline\n",
    "\n",
    "#Pipe line\n",
    "linear_pipline=Pipeline([('scaler', StandardScaler()), ('linear_regression', LinearRegression())])\n",
    "\n",
    "#training\n",
    "linear_pipline.fit(X_tn, y_tn)\n",
    "\n",
    "#predict\n",
    "pred_linear=linear_pipline.predict(X_te)\n",
    "\n",
    "# Evaluation\n",
    "mean_squared_error(y_te,pred_linear)"
   ]
  },
  {
   "cell_type": "code",
   "execution_count": null,
   "id": "11328518",
   "metadata": {},
   "outputs": [],
   "source": []
  }
 ],
 "metadata": {
  "kernelspec": {
   "display_name": "Python 3",
   "language": "python",
   "name": "python3"
  },
  "language_info": {
   "codemirror_mode": {
    "name": "ipython",
    "version": 3
   },
   "file_extension": ".py",
   "mimetype": "text/x-python",
   "name": "python",
   "nbconvert_exporter": "python",
   "pygments_lexer": "ipython3",
   "version": "3.8.8"
  }
 },
 "nbformat": 4,
 "nbformat_minor": 5
}
