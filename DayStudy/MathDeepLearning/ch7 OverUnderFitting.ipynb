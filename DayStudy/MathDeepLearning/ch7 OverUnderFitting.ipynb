{
 "cells": [
  {
   "cell_type": "markdown",
   "id": "1d9c9ded",
   "metadata": {},
   "source": [
    "### 7. Over fitting and Under fitting"
   ]
  },
  {
   "cell_type": "code",
   "execution_count": 1,
   "id": "7006ea49",
   "metadata": {},
   "outputs": [
    {
     "data": {
      "text/plain": [
       "29.515137790197596"
      ]
     },
     "execution_count": 1,
     "metadata": {},
     "output_type": "execute_result"
    }
   ],
   "source": [
    "# Before the use Pipeline\n",
    "from sklearn import datasets\n",
    "from sklearn.pipeline import Pipeline\n",
    "from sklearn.preprocessing import StandardScaler\n",
    "from sklearn.linear_model import LinearRegression\n",
    "from sklearn.model_selection import train_test_split\n",
    "from sklearn.metrics import mean_squared_error\n",
    "\n",
    "raw_boston=datasets.load_boston()\n",
    "\n",
    "X=raw_boston.data\n",
    "y=raw_boston.target\n",
    "\n",
    "#training/test data divide\n",
    "X_tn, X_te, y_tn, y_te=train_test_split(X,y,random_state=7)\n",
    "\n",
    "# Standard Scaling\n",
    "std_scale=StandardScaler()\n",
    "X_tn_std=std_scale.fit_transform(X_tn)\n",
    "x_te_std=std_scale.transform(X_te)\n",
    "\n",
    "# Training\n",
    "clf_linear=LinearRegression()\n",
    "clf_linear.fit(X_tn_std,y_tn)\n",
    "\n",
    "#predict\n",
    "pred_linear=clf_linear.predict(x_te_std)\n",
    "\n",
    "#Evaluation\n",
    "mean_squared_error(y_te,pred_linear)"
   ]
  },
  {
   "cell_type": "code",
   "execution_count": 2,
   "id": "43a6c8fd",
   "metadata": {},
   "outputs": [
    {
     "data": {
      "text/plain": [
       "29.515137790197596"
      ]
     },
     "execution_count": 2,
     "metadata": {},
     "output_type": "execute_result"
    }
   ],
   "source": [
    "#Use pipline\n",
    "X_tn, X_te, y_tn, y_te=train_test_split(X,y,random_state=7)\n",
    "\n",
    "#from sklearn.pipeline import Pipeline\n",
    "\n",
    "#Pipe line\n",
    "linear_pipline=Pipeline([('scaler', StandardScaler()), ('linear_regression', LinearRegression())])\n",
    "\n",
    "#training\n",
    "linear_pipline.fit(X_tn, y_tn)\n",
    "\n",
    "#predict\n",
    "pred_linear=linear_pipline.predict(X_te)\n",
    "\n",
    "# Evaluation\n",
    "mean_squared_error(y_te,pred_linear)"
   ]
  },
  {
   "cell_type": "code",
   "execution_count": 3,
   "id": "d874f2e3",
   "metadata": {},
   "outputs": [
    {
     "name": "stdout",
     "output_type": "stream",
     "text": [
      "0.5\n",
      "2\n"
     ]
    }
   ],
   "source": [
    "#7.6.2 Classification porblem performance evaluate\n",
    "\n",
    "from sklearn.metrics import accuracy_score\n",
    "y_pred=[0,2,1,3]\n",
    "y_true=[0,1,2,3]\n",
    "\n",
    "print(accuracy_score(y_true, y_pred))\n",
    "\n",
    "print(accuracy_score(y_true, y_pred, normalize=False))"
   ]
  },
  {
   "cell_type": "code",
   "execution_count": 5,
   "id": "4513bc62",
   "metadata": {},
   "outputs": [
    {
     "data": {
      "text/plain": [
       "array([[2, 0, 1],\n",
       "       [0, 0, 0],\n",
       "       [0, 1, 2]])"
      ]
     },
     "execution_count": 5,
     "metadata": {},
     "output_type": "execute_result"
    }
   ],
   "source": [
    "# Confusion Matrix\n",
    "from sklearn.metrics import confusion_matrix\n",
    "y_pred=[2,0,2,2,0,1]\n",
    "y_true=[0,0,2,2,0,2]\n",
    "confusion_matrix(y_true, y_pred)"
   ]
  },
  {
   "cell_type": "code",
   "execution_count": 7,
   "id": "6a1689d2",
   "metadata": {},
   "outputs": [
    {
     "name": "stdout",
     "output_type": "stream",
     "text": [
      "              precision    recall  f1-score   support\n",
      "\n",
      "     class 0       0.67      1.00      0.80         2\n",
      "     class 1       0.00      0.00      0.00         1\n",
      "     class 2       1.00      0.50      0.67         2\n",
      "\n",
      "    accuracy                           0.60         5\n",
      "   macro avg       0.56      0.50      0.49         5\n",
      "weighted avg       0.67      0.60      0.59         5\n",
      "\n"
     ]
    }
   ],
   "source": [
    "#classification report\n",
    "from sklearn.metrics import classification_report\n",
    "y_true=[0,1,2,2,0]\n",
    "y_pred=[0,0,2,1,0]\n",
    "target_names=['class 0', 'class 1', 'class 2']\n",
    "print(classification_report(y_true,y_pred, target_names=target_names))"
   ]
  },
  {
   "cell_type": "code",
   "execution_count": null,
   "id": "b5af7224",
   "metadata": {},
   "outputs": [],
   "source": []
  }
 ],
 "metadata": {
  "kernelspec": {
   "display_name": "Python 3",
   "language": "python",
   "name": "python3"
  },
  "language_info": {
   "codemirror_mode": {
    "name": "ipython",
    "version": 3
   },
   "file_extension": ".py",
   "mimetype": "text/x-python",
   "name": "python",
   "nbconvert_exporter": "python",
   "pygments_lexer": "ipython3",
   "version": "3.8.8"
  }
 },
 "nbformat": 4,
 "nbformat_minor": 5
}
