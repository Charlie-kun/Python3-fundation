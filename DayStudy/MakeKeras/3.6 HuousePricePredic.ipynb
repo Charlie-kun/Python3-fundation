{
 "cells": [
  {
   "cell_type": "markdown",
   "id": "3cb03b82",
   "metadata": {},
   "source": [
    "### 3.6 House price predict : regression problem"
   ]
  },
  {
   "cell_type": "markdown",
   "id": "d4d58b6b",
   "metadata": {},
   "source": [
    "#### 3.6.1 boston house price dataset"
   ]
  },
  {
   "cell_type": "code",
   "execution_count": 1,
   "id": "0fcca7a8",
   "metadata": {},
   "outputs": [
    {
     "name": "stdout",
     "output_type": "stream",
     "text": [
      "Train data :  (404, 13)\n",
      "Test data :  (102, 13)\n"
     ]
    }
   ],
   "source": [
    "from keras.datasets import boston_housing\n",
    "\n",
    "(train_data, train_targets), (test_data, test_targets)= boston_housing.load_data()\n",
    "\n",
    "print(\"Train data : \",train_data.shape)\n",
    "print(\"Test data : \",test_data.shape)"
   ]
  },
  {
   "cell_type": "code",
   "execution_count": 2,
   "id": "13fde2d9",
   "metadata": {},
   "outputs": [],
   "source": [
    "# Normalize data\n",
    "mean=train_data.mean(axis=0)\n",
    "train_data-=mean\n",
    "std=train_data.std(axis=0)\n",
    "train_data/=std\n",
    "test_data-=mean\n",
    "test_data/=std"
   ]
  },
  {
   "cell_type": "markdown",
   "id": "fe14829e",
   "metadata": {},
   "source": [
    "#### 3.6.3 Model configuration"
   ]
  },
  {
   "cell_type": "code",
   "execution_count": 5,
   "id": "46364dad",
   "metadata": {},
   "outputs": [],
   "source": [
    "from keras import models\n",
    "from keras import layers\n",
    "\n",
    "def build_model():\n",
    "    model = models.Sequential()\n",
    "    model.add(layers.Dense(64, activation='relu',\n",
    "                           input_shape=(train_data.shape[1],)))\n",
    "    model.add(layers.Dense(64, activation='relu'))\n",
    "    model.add(layers.Dense(1))\n",
    "    model.compile(optimizer='rmsprop', loss='mse', metrics=['mae'])\n",
    "    return model"
   ]
  },
  {
   "cell_type": "code",
   "execution_count": 6,
   "id": "b7fbb170",
   "metadata": {},
   "outputs": [
    {
     "name": "stdout",
     "output_type": "stream",
     "text": [
      "fold processing # 0\n",
      "fold processing # 1\n",
      "fold processing # 2\n",
      "fold processing # 3\n"
     ]
    }
   ],
   "source": [
    "import numpy as np\n",
    "\n",
    "k=4 \n",
    "num_val_samples=len(train_data)//k\n",
    "num_epochs=100\n",
    "all_scores=[]\n",
    "for i in range(k):\n",
    "    print('fold processing #', i)\n",
    "    val_data=train_data[i*num_val_samples:(i+1)*num_val_samples]\n",
    "    val_targets=train_targets[i*num_val_samples:(i+1)*num_val_samples]\n",
    "    \n",
    "    partial_train_data=np.concatenate([train_data[:i*num_val_samples:]], axis=0)\n",
    "    partial_train_targets=np.concatenate([train_targets[:i*num_val_samples], train_targets[(i+1)*num_val_samples:]], axis=0)\n",
    "    \n",
    "    \n",
    "model = build_model()\n",
    "model.fit(partial_train_data, partial_train_targets,\n",
    "          epochs=num_epochs, batch_size=1, verbose=0)\n",
    "val_mse, val_mae = model.evaluate(val_data, val_targets, verbose=0)\n",
    "all_scores.append(val_mae)"
   ]
  },
  {
   "cell_type": "code",
   "execution_count": 7,
   "id": "2ef3f75f",
   "metadata": {},
   "outputs": [
    {
     "data": {
      "text/plain": [
       "[2.3703222274780273]"
      ]
     },
     "execution_count": 7,
     "metadata": {},
     "output_type": "execute_result"
    }
   ],
   "source": [
    "all_scores"
   ]
  },
  {
   "cell_type": "code",
   "execution_count": 8,
   "id": "47712c55",
   "metadata": {},
   "outputs": [
    {
     "data": {
      "text/plain": [
       "2.3703222274780273"
      ]
     },
     "execution_count": 8,
     "metadata": {},
     "output_type": "execute_result"
    }
   ],
   "source": [
    "np.mean(all_scores)"
   ]
  },
  {
   "cell_type": "code",
   "execution_count": null,
   "id": "5d273f45",
   "metadata": {},
   "outputs": [],
   "source": []
  }
 ],
 "metadata": {
  "kernelspec": {
   "display_name": "Python 3",
   "language": "python",
   "name": "python3"
  },
  "language_info": {
   "codemirror_mode": {
    "name": "ipython",
    "version": 3
   },
   "file_extension": ".py",
   "mimetype": "text/x-python",
   "name": "python",
   "nbconvert_exporter": "python",
   "pygments_lexer": "ipython3",
   "version": "3.8.8"
  }
 },
 "nbformat": 4,
 "nbformat_minor": 5
}
