{
 "cells": [
  {
   "cell_type": "markdown",
   "id": "03e4669c",
   "metadata": {},
   "source": [
    "### 3.6 House price predict : regression problem"
   ]
  },
  {
   "cell_type": "markdown",
   "id": "cffdee59",
   "metadata": {},
   "source": [
    "#### 3.6.1 boston house price dataset"
   ]
  },
  {
   "cell_type": "code",
   "execution_count": 1,
   "id": "9d5d2a5c",
   "metadata": {},
   "outputs": [
    {
     "name": "stdout",
     "output_type": "stream",
     "text": [
      "Downloading data from https://storage.googleapis.com/tensorflow/tf-keras-datasets/boston_housing.npz\n",
      "57344/57026 [==============================] - 0s 0us/step\n",
      "Train data :  (404, 13)\n",
      "Test data :  (102, 13)\n"
     ]
    }
   ],
   "source": [
    "from keras.datasets import boston_housing\n",
    "\n",
    "(train_data, train_targets), (test_data, test_targets)= boston_housing.load_data()\n",
    "\n",
    "print(\"Train data : \",train_data.shape)\n",
    "print(\"Test data : \",test_data.shape)"
   ]
  },
  {
   "cell_type": "code",
   "execution_count": 2,
   "id": "14fc8598",
   "metadata": {},
   "outputs": [],
   "source": [
    "# Normalize data\n",
    "mean=train_data.mean(axis=0)\n",
    "train_data-=mean\n",
    "std=train_data.std(axis=0)\n",
    "train_data/=std\n",
    "test_data-=mean\n",
    "test_data/=std"
   ]
  },
  {
   "cell_type": "markdown",
   "id": "0b85e6db",
   "metadata": {},
   "source": [
    "#### 3.6.3 Model configuration"
   ]
  },
  {
   "cell_type": "code",
   "execution_count": null,
   "id": "869837fd",
   "metadata": {},
   "outputs": [],
   "source": [
    "from keras import models\n",
    "from keras import layers\n",
    "\n",
    "def build_model():\n",
    "    "
   ]
  }
 ],
 "metadata": {
  "kernelspec": {
   "display_name": "Python 3",
   "language": "python",
   "name": "python3"
  },
  "language_info": {
   "codemirror_mode": {
    "name": "ipython",
    "version": 3
   },
   "file_extension": ".py",
   "mimetype": "text/x-python",
   "name": "python",
   "nbconvert_exporter": "python",
   "pygments_lexer": "ipython3",
   "version": "3.8.8"
  }
 },
 "nbformat": 4,
 "nbformat_minor": 5
}
